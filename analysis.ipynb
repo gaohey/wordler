{
 "cells": [
  {
   "cell_type": "code",
   "execution_count": 16,
   "id": "9b1724fe-8893-450f-b1b0-da0b10e2cb01",
   "metadata": {},
   "outputs": [],
   "source": [
    "from wordle import Wordle, bestSolver, genGuessImpact,genScore"
   ]
  },
  {
   "cell_type": "code",
   "execution_count": 17,
   "id": "75dde1c7-20b2-4c53-9947-9a58643e6fcb",
   "metadata": {},
   "outputs": [],
   "source": [
    "import wordle"
   ]
  },
  {
   "cell_type": "code",
   "execution_count": 18,
   "id": "fc5635bd-0a96-433c-8dd8-8dca8b3306f9",
   "metadata": {},
   "outputs": [],
   "source": [
    "import pandas as pd\n"
   ]
  },
  {
   "cell_type": "code",
   "execution_count": 19,
   "id": "df06d76e-bfc7-4ad2-9fe9-af6394e4ccbe",
   "metadata": {},
   "outputs": [],
   "source": [
    "import matplotlib"
   ]
  },
  {
   "cell_type": "code",
   "execution_count": 20,
   "id": "4f1e1279-a8c9-4c5e-b8cf-2814b52f0fe6",
   "metadata": {},
   "outputs": [],
   "source": [
    "testSession = Wordle()\n"
   ]
  },
  {
   "cell_type": "code",
   "execution_count": 21,
   "id": "62620e74-4f16-4008-ab70-de702ba1b5c1",
   "metadata": {},
   "outputs": [],
   "source": [
    "allwordspace = testSession.allWords.copy()"
   ]
  },
  {
   "cell_type": "code",
   "execution_count": null,
   "id": "a978431c-1fec-49bc-9919-bacc6e0209d1",
   "metadata": {},
   "outputs": [],
   "source": []
  },
  {
   "cell_type": "code",
   "execution_count": 22,
   "id": "53095d8d-2a18-4dbf-beca-754f2b0a3919",
   "metadata": {},
   "outputs": [
    {
     "data": {
      "text/plain": [
       "(4277, 1)"
      ]
     },
     "execution_count": 22,
     "metadata": {},
     "output_type": "execute_result"
    }
   ],
   "source": [
    "allwordspace.shape"
   ]
  },
  {
   "cell_type": "code",
   "execution_count": 23,
   "id": "1d3b696e-cbfc-4808-af73-71cdb98ffbbd",
   "metadata": {},
   "outputs": [
    {
     "data": {
      "text/plain": [
       "(4277, 1)"
      ]
     },
     "execution_count": 23,
     "metadata": {},
     "output_type": "execute_result"
    }
   ],
   "source": [
    "allwordspace.drop_duplicates().shape"
   ]
  },
  {
   "cell_type": "code",
   "execution_count": 9,
   "id": "86f2eccc-9183-4023-8399-0098c83ac4cb",
   "metadata": {},
   "outputs": [],
   "source": [
    "## best initial guess "
   ]
  },
  {
   "cell_type": "code",
   "execution_count": 10,
   "id": "b37efc12-409e-49e6-a903-7f2186fbb919",
   "metadata": {},
   "outputs": [
    {
     "data": {
      "text/plain": [
       "'raise'"
      ]
     },
     "execution_count": 10,
     "metadata": {},
     "output_type": "execute_result"
    }
   ],
   "source": [
    "bestSolver( allwordspace, allwordspace )"
   ]
  },
  {
   "cell_type": "code",
   "execution_count": 13,
   "id": "8201c549-ab9f-41bf-bf86-9a889869b8f6",
   "metadata": {},
   "outputs": [],
   "source": [
    "allwordspace['guessImpact'] = allwordspace.words.apply( lambda x: genGuessImpact( x, allwordspace ) )"
   ]
  },
  {
   "cell_type": "code",
   "execution_count": 17,
   "id": "22b18b38-bdf1-472e-a8a0-ed2e47ee7a6b",
   "metadata": {},
   "outputs": [
    {
     "data": {
      "text/html": [
       "<div>\n",
       "<style scoped>\n",
       "    .dataframe tbody tr th:only-of-type {\n",
       "        vertical-align: middle;\n",
       "    }\n",
       "\n",
       "    .dataframe tbody tr th {\n",
       "        vertical-align: top;\n",
       "    }\n",
       "\n",
       "    .dataframe thead th {\n",
       "        text-align: right;\n",
       "    }\n",
       "</style>\n",
       "<table border=\"1\" class=\"dataframe\">\n",
       "  <thead>\n",
       "    <tr style=\"text-align: right;\">\n",
       "      <th></th>\n",
       "      <th>words</th>\n",
       "      <th>guessImpact</th>\n",
       "    </tr>\n",
       "  </thead>\n",
       "  <tbody>\n",
       "    <tr>\n",
       "      <th>3023</th>\n",
       "      <td>raise</td>\n",
       "      <td>112.967267</td>\n",
       "    </tr>\n",
       "    <tr>\n",
       "      <th>3872</th>\n",
       "      <td>tarse</td>\n",
       "      <td>122.152677</td>\n",
       "    </tr>\n",
       "    <tr>\n",
       "      <th>197</th>\n",
       "      <td>arise</td>\n",
       "      <td>124.847089</td>\n",
       "    </tr>\n",
       "    <tr>\n",
       "      <th>202</th>\n",
       "      <td>arose</td>\n",
       "      <td>126.285480</td>\n",
       "    </tr>\n",
       "    <tr>\n",
       "      <th>195</th>\n",
       "      <td>ariel</td>\n",
       "      <td>127.211831</td>\n",
       "    </tr>\n",
       "    <tr>\n",
       "      <th>2492</th>\n",
       "      <td>nares</td>\n",
       "      <td>127.433481</td>\n",
       "    </tr>\n",
       "    <tr>\n",
       "      <th>3327</th>\n",
       "      <td>serai</td>\n",
       "      <td>128.070376</td>\n",
       "    </tr>\n",
       "    <tr>\n",
       "      <th>2630</th>\n",
       "      <td>orate</td>\n",
       "      <td>128.788169</td>\n",
       "    </tr>\n",
       "    <tr>\n",
       "      <th>1940</th>\n",
       "      <td>irate</td>\n",
       "      <td>129.520926</td>\n",
       "    </tr>\n",
       "    <tr>\n",
       "      <th>3043</th>\n",
       "      <td>ratel</td>\n",
       "      <td>131.345569</td>\n",
       "    </tr>\n",
       "  </tbody>\n",
       "</table>\n",
       "</div>"
      ],
      "text/plain": [
       "      words  guessImpact\n",
       "3023  raise   112.967267\n",
       "3872  tarse   122.152677\n",
       "197   arise   124.847089\n",
       "202   arose   126.285480\n",
       "195   ariel   127.211831\n",
       "2492  nares   127.433481\n",
       "3327  serai   128.070376\n",
       "2630  orate   128.788169\n",
       "1940  irate   129.520926\n",
       "3043  ratel   131.345569"
      ]
     },
     "execution_count": 17,
     "metadata": {},
     "output_type": "execute_result"
    }
   ],
   "source": [
    "allwordspace.sort_values(by=['guessImpact']).head(10)"
   ]
  },
  {
   "cell_type": "code",
   "execution_count": 18,
   "id": "8c98834b-2b3e-4247-9a5b-d81fe2959cad",
   "metadata": {},
   "outputs": [
    {
     "data": {
      "text/html": [
       "<div>\n",
       "<style scoped>\n",
       "    .dataframe tbody tr th:only-of-type {\n",
       "        vertical-align: middle;\n",
       "    }\n",
       "\n",
       "    .dataframe tbody tr th {\n",
       "        vertical-align: top;\n",
       "    }\n",
       "\n",
       "    .dataframe thead th {\n",
       "        text-align: right;\n",
       "    }\n",
       "</style>\n",
       "<table border=\"1\" class=\"dataframe\">\n",
       "  <thead>\n",
       "    <tr style=\"text-align: right;\">\n",
       "      <th></th>\n",
       "      <th>words</th>\n",
       "      <th>guessImpact</th>\n",
       "    </tr>\n",
       "  </thead>\n",
       "  <tbody>\n",
       "    <tr>\n",
       "      <th>3481</th>\n",
       "      <td>slate</td>\n",
       "      <td>145.027589</td>\n",
       "    </tr>\n",
       "  </tbody>\n",
       "</table>\n",
       "</div>"
      ],
      "text/plain": [
       "      words  guessImpact\n",
       "3481  slate   145.027589"
      ]
     },
     "execution_count": 18,
     "metadata": {},
     "output_type": "execute_result"
    }
   ],
   "source": [
    "allwordspace[allwordspace.words==\"slate\"]"
   ]
  },
  {
   "cell_type": "code",
   "execution_count": null,
   "id": "b50e4e31-9c41-4c1a-bcd9-f1376a88f280",
   "metadata": {},
   "outputs": [],
   "source": []
  },
  {
   "cell_type": "code",
   "execution_count": 65,
   "id": "c5b91aac-df6e-4e75-8cdb-1994e8e79849",
   "metadata": {},
   "outputs": [],
   "source": [
    "testSession = Wordle()\n",
    "testSession.reset()"
   ]
  },
  {
   "cell_type": "code",
   "execution_count": 66,
   "id": "eebb45cc-a1fe-43c4-b6ac-4f850969b150",
   "metadata": {},
   "outputs": [],
   "source": [
    "guess = \"raise\"\n",
    "score_this= \"11012\"\n",
    "\n",
    "testSession.getGuess( guess )\n",
    "testSession.scores.append( score_this )\n",
    "next_choices = testSession.updateChoices( guess,score_this)"
   ]
  },
  {
   "cell_type": "code",
   "execution_count": 60,
   "id": "ba46bc3e-e213-4bd1-bc84-a7660737f515",
   "metadata": {},
   "outputs": [
    {
     "name": "stderr",
     "output_type": "stream",
     "text": [
      "/tmp/ipykernel_4299/418723028.py:1: SettingWithCopyWarning: \n",
      "A value is trying to be set on a copy of a slice from a DataFrame.\n",
      "Try using .loc[row_indexer,col_indexer] = value instead\n",
      "\n",
      "See the caveats in the documentation: https://pandas.pydata.org/pandas-docs/stable/user_guide/indexing.html#returning-a-view-versus-a-copy\n",
      "  next_choices['guessImpact'] = next_choices.words.apply( lambda x: genGuessImpact( x, next_choices ) )\n"
     ]
    }
   ],
   "source": [
    "next_choices['guessImpact'] = next_choices.words.apply( lambda x: genGuessImpact( x, next_choices ) )"
   ]
  },
  {
   "cell_type": "code",
   "execution_count": 61,
   "id": "1b7a99cf-2f1c-4c7a-977d-c21d87c141a8",
   "metadata": {},
   "outputs": [
    {
     "data": {
      "text/html": [
       "<div>\n",
       "<style scoped>\n",
       "    .dataframe tbody tr th:only-of-type {\n",
       "        vertical-align: middle;\n",
       "    }\n",
       "\n",
       "    .dataframe tbody tr th {\n",
       "        vertical-align: top;\n",
       "    }\n",
       "\n",
       "    .dataframe thead th {\n",
       "        text-align: right;\n",
       "    }\n",
       "</style>\n",
       "<table border=\"1\" class=\"dataframe\">\n",
       "  <thead>\n",
       "    <tr style=\"text-align: right;\">\n",
       "      <th></th>\n",
       "      <th>words</th>\n",
       "      <th>guessImpact</th>\n",
       "    </tr>\n",
       "  </thead>\n",
       "  <tbody>\n",
       "    <tr>\n",
       "      <th>3258</th>\n",
       "      <td>scare</td>\n",
       "      <td>4.333333</td>\n",
       "    </tr>\n",
       "    <tr>\n",
       "      <th>3364</th>\n",
       "      <td>share</td>\n",
       "      <td>4.333333</td>\n",
       "    </tr>\n",
       "    <tr>\n",
       "      <th>3537</th>\n",
       "      <td>snare</td>\n",
       "      <td>4.333333</td>\n",
       "    </tr>\n",
       "    <tr>\n",
       "      <th>3602</th>\n",
       "      <td>spare</td>\n",
       "      <td>4.333333</td>\n",
       "    </tr>\n",
       "    <tr>\n",
       "      <th>3682</th>\n",
       "      <td>stare</td>\n",
       "      <td>4.333333</td>\n",
       "    </tr>\n",
       "    <tr>\n",
       "      <th>3796</th>\n",
       "      <td>sware</td>\n",
       "      <td>4.333333</td>\n",
       "    </tr>\n",
       "  </tbody>\n",
       "</table>\n",
       "</div>"
      ],
      "text/plain": [
       "      words  guessImpact\n",
       "3258  scare     4.333333\n",
       "3364  share     4.333333\n",
       "3537  snare     4.333333\n",
       "3602  spare     4.333333\n",
       "3682  stare     4.333333\n",
       "3796  sware     4.333333"
      ]
     },
     "execution_count": 61,
     "metadata": {},
     "output_type": "execute_result"
    }
   ],
   "source": [
    "next_choices.sort_values(by='guessImpact')"
   ]
  },
  {
   "cell_type": "code",
   "execution_count": 67,
   "id": "ccc8c4fb-1085-4d9f-bcec-47f977acf9ad",
   "metadata": {},
   "outputs": [
    {
     "data": {
      "text/plain": [
       "'chant'"
      ]
     },
     "execution_count": 67,
     "metadata": {},
     "output_type": "execute_result"
    }
   ],
   "source": [
    "bestSolver( allwordspace, next_choices )"
   ]
  },
  {
   "cell_type": "code",
   "execution_count": 68,
   "id": "2af5d71e-2d25-48ef-9ed5-7e0dee321887",
   "metadata": {},
   "outputs": [
    {
     "data": {
      "text/plain": [
       "'scare'"
      ]
     },
     "execution_count": 68,
     "metadata": {},
     "output_type": "execute_result"
    }
   ],
   "source": [
    "bestSolver( next_choices, next_choices )"
   ]
  },
  {
   "cell_type": "code",
   "execution_count": 74,
   "id": "22948abd-3318-4b61-bdba-f7e414b05564",
   "metadata": {},
   "outputs": [
    {
     "data": {
      "text/plain": [
       "False"
      ]
     },
     "execution_count": 74,
     "metadata": {},
     "output_type": "execute_result"
    }
   ],
   "source": [
    "sum( [int(i) for i in \"11012\" ]) >=6"
   ]
  },
  {
   "cell_type": "code",
   "execution_count": 75,
   "id": "0cd7e3ea-5bf5-4c1a-a214-7fe89ac59937",
   "metadata": {},
   "outputs": [
    {
     "data": {
      "text/plain": [
       "5"
      ]
     },
     "execution_count": 75,
     "metadata": {},
     "output_type": "execute_result"
    }
   ],
   "source": [
    "sum( [int(i) for i in \"11012\" ]) "
   ]
  },
  {
   "cell_type": "code",
   "execution_count": null,
   "id": "f22ff538-8941-43eb-8685-96853961125e",
   "metadata": {},
   "outputs": [],
   "source": []
  },
  {
   "cell_type": "code",
   "execution_count": 71,
   "id": "347e8e63-c033-4dc6-994c-4230c7a74a4b",
   "metadata": {},
   "outputs": [
    {
     "data": {
      "text/plain": [
       "'00210'"
      ]
     },
     "execution_count": 71,
     "metadata": {},
     "output_type": "execute_result"
    }
   ],
   "source": [
    "genScore(\"chant\",\"snare\")"
   ]
  },
  {
   "cell_type": "code",
   "execution_count": null,
   "id": "d650540a-5f33-4dd1-ad6f-d32e0bfd4c7c",
   "metadata": {},
   "outputs": [],
   "source": []
  },
  {
   "cell_type": "code",
   "execution_count": 72,
   "id": "0659fa66-aa39-4898-b0c1-ddb435279912",
   "metadata": {},
   "outputs": [],
   "source": [
    "guess = \"chant\"\n",
    "score_this= \"00210\"\n",
    "\n",
    "testSession.getGuess( guess )\n",
    "testSession.scores.append( score_this )\n",
    "next_choices = testSession.updateChoices( guess,score_this)"
   ]
  },
  {
   "cell_type": "code",
   "execution_count": 73,
   "id": "71c57958-1270-447b-ad82-02e72a9ab91d",
   "metadata": {},
   "outputs": [
    {
     "data": {
      "text/html": [
       "<div>\n",
       "<style scoped>\n",
       "    .dataframe tbody tr th:only-of-type {\n",
       "        vertical-align: middle;\n",
       "    }\n",
       "\n",
       "    .dataframe tbody tr th {\n",
       "        vertical-align: top;\n",
       "    }\n",
       "\n",
       "    .dataframe thead th {\n",
       "        text-align: right;\n",
       "    }\n",
       "</style>\n",
       "<table border=\"1\" class=\"dataframe\">\n",
       "  <thead>\n",
       "    <tr style=\"text-align: right;\">\n",
       "      <th></th>\n",
       "      <th>words</th>\n",
       "    </tr>\n",
       "  </thead>\n",
       "  <tbody>\n",
       "    <tr>\n",
       "      <th>3537</th>\n",
       "      <td>snare</td>\n",
       "    </tr>\n",
       "  </tbody>\n",
       "</table>\n",
       "</div>"
      ],
      "text/plain": [
       "      words\n",
       "3537  snare"
      ]
     },
     "execution_count": 73,
     "metadata": {},
     "output_type": "execute_result"
    }
   ],
   "source": [
    "next_choices"
   ]
  },
  {
   "cell_type": "code",
   "execution_count": null,
   "id": "899f141b-f55c-4260-9873-c210e98896be",
   "metadata": {},
   "outputs": [],
   "source": []
  },
  {
   "cell_type": "code",
   "execution_count": 62,
   "id": "b5baac86-61e1-43d3-91be-aadb00b07766",
   "metadata": {},
   "outputs": [],
   "source": [
    "allwordspace['guessImpact'] = allwordspace.words.apply( lambda x: genGuessImpact( x, next_choices ) )"
   ]
  },
  {
   "cell_type": "code",
   "execution_count": 63,
   "id": "5c8c5b05-de10-44f5-92b5-0c0925370e04",
   "metadata": {},
   "outputs": [
    {
     "data": {
      "text/html": [
       "<div>\n",
       "<style scoped>\n",
       "    .dataframe tbody tr th:only-of-type {\n",
       "        vertical-align: middle;\n",
       "    }\n",
       "\n",
       "    .dataframe tbody tr th {\n",
       "        vertical-align: top;\n",
       "    }\n",
       "\n",
       "    .dataframe thead th {\n",
       "        text-align: right;\n",
       "    }\n",
       "</style>\n",
       "<table border=\"1\" class=\"dataframe\">\n",
       "  <thead>\n",
       "    <tr style=\"text-align: right;\">\n",
       "      <th></th>\n",
       "      <th>words</th>\n",
       "      <th>guessImpact</th>\n",
       "      <th>stepsNeeded_slate</th>\n",
       "    </tr>\n",
       "  </thead>\n",
       "  <tbody>\n",
       "    <tr>\n",
       "      <th>2718</th>\n",
       "      <td>patch</td>\n",
       "      <td>1.333333</td>\n",
       "      <td>5</td>\n",
       "    </tr>\n",
       "    <tr>\n",
       "      <th>4282</th>\n",
       "      <td>watch</td>\n",
       "      <td>1.333333</td>\n",
       "      <td>7</td>\n",
       "    </tr>\n",
       "    <tr>\n",
       "      <th>2953</th>\n",
       "      <td>punch</td>\n",
       "      <td>1.333333</td>\n",
       "      <td>5</td>\n",
       "    </tr>\n",
       "    <tr>\n",
       "      <th>688</th>\n",
       "      <td>chant</td>\n",
       "      <td>1.333333</td>\n",
       "      <td>3</td>\n",
       "    </tr>\n",
       "    <tr>\n",
       "      <th>4353</th>\n",
       "      <td>witch</td>\n",
       "      <td>1.333333</td>\n",
       "      <td>7</td>\n",
       "    </tr>\n",
       "    <tr>\n",
       "      <th>...</th>\n",
       "      <td>...</td>\n",
       "      <td>...</td>\n",
       "      <td>...</td>\n",
       "    </tr>\n",
       "    <tr>\n",
       "      <th>2045</th>\n",
       "      <td>kissy</td>\n",
       "      <td>6.000000</td>\n",
       "      <td>4</td>\n",
       "    </tr>\n",
       "    <tr>\n",
       "      <th>2044</th>\n",
       "      <td>kiosk</td>\n",
       "      <td>6.000000</td>\n",
       "      <td>4</td>\n",
       "    </tr>\n",
       "    <tr>\n",
       "      <th>2042</th>\n",
       "      <td>kilim</td>\n",
       "      <td>6.000000</td>\n",
       "      <td>4</td>\n",
       "    </tr>\n",
       "    <tr>\n",
       "      <th>2082</th>\n",
       "      <td>kvass</td>\n",
       "      <td>6.000000</td>\n",
       "      <td>4</td>\n",
       "    </tr>\n",
       "    <tr>\n",
       "      <th>4625</th>\n",
       "      <td>reads</td>\n",
       "      <td>6.000000</td>\n",
       "      <td>4</td>\n",
       "    </tr>\n",
       "  </tbody>\n",
       "</table>\n",
       "<p>4277 rows × 3 columns</p>\n",
       "</div>"
      ],
      "text/plain": [
       "      words  guessImpact  stepsNeeded_slate\n",
       "2718  patch     1.333333                  5\n",
       "4282  watch     1.333333                  7\n",
       "2953  punch     1.333333                  5\n",
       "688   chant     1.333333                  3\n",
       "4353  witch     1.333333                  7\n",
       "...     ...          ...                ...\n",
       "2045  kissy     6.000000                  4\n",
       "2044  kiosk     6.000000                  4\n",
       "2042  kilim     6.000000                  4\n",
       "2082  kvass     6.000000                  4\n",
       "4625  reads     6.000000                  4\n",
       "\n",
       "[4277 rows x 3 columns]"
      ]
     },
     "execution_count": 63,
     "metadata": {},
     "output_type": "execute_result"
    }
   ],
   "source": [
    "allwordspace.sort_values(by='guessImpact')"
   ]
  },
  {
   "cell_type": "code",
   "execution_count": null,
   "id": "e0ffe102-40dd-413e-9f19-4238ef637ab2",
   "metadata": {},
   "outputs": [],
   "source": []
  },
  {
   "cell_type": "code",
   "execution_count": null,
   "id": "d3cdc67c-37bc-49d9-a42d-b976caa9fd95",
   "metadata": {},
   "outputs": [],
   "source": []
  },
  {
   "cell_type": "code",
   "execution_count": null,
   "id": "8fe40bb7-db56-4e4f-8829-bcb704241f3d",
   "metadata": {},
   "outputs": [],
   "source": []
  },
  {
   "cell_type": "code",
   "execution_count": null,
   "id": "a514f699-d3d7-4607-9aa3-9afac25c67e7",
   "metadata": {},
   "outputs": [],
   "source": []
  },
  {
   "cell_type": "code",
   "execution_count": null,
   "id": "688d91d1-c261-4bdc-bb76-c5f892fbd6e3",
   "metadata": {},
   "outputs": [],
   "source": []
  },
  {
   "cell_type": "code",
   "execution_count": 25,
   "id": "ad21123a-a137-4ac5-96e2-620888bbaf68",
   "metadata": {},
   "outputs": [],
   "source": [
    "import swifter"
   ]
  },
  {
   "cell_type": "code",
   "execution_count": 29,
   "id": "469c6464-0605-4f26-8bb6-69e7f388ee27",
   "metadata": {},
   "outputs": [],
   "source": [
    "\n",
    "def testSolvingRounds( answer, initial_guess='raise', trials=7): \n",
    "    wordleSession= Wordle()\n",
    "    wordleSession.reset()\n",
    "    \n",
    "    wordleSession.answer = answer\n",
    "    \n",
    "    guess = initial_guess\n",
    "    score = \"\"\n",
    "    \n",
    "    for i in range(trials):\n",
    "\n",
    "        # print(guess)\n",
    "        wordleSession.getGuess( guess )\n",
    "        score = wordleSession.getScore( guess ) \n",
    "            \n",
    "        if score == \"22222\":\n",
    "            return i+1\n",
    "    \n",
    "        choice = wordleSession.updateChoices(guess, score ) \n",
    "        if len(choice) == 0:\n",
    "            return -99999\n",
    "    \n",
    "        guess = wordleSession.genHintOptimal()\n",
    "\n",
    "        \n",
    "    # print( wordleSession.choiceSpace) \n",
    "    return -1\n",
    "    \n",
    "\n",
    "\n",
    "\n"
   ]
  },
  {
   "cell_type": "code",
   "execution_count": 30,
   "id": "5f3c03ef-df59-4a7f-b44b-e3c8395c2337",
   "metadata": {},
   "outputs": [
    {
     "data": {
      "text/plain": [
       "6"
      ]
     },
     "execution_count": 30,
     "metadata": {},
     "output_type": "execute_result"
    }
   ],
   "source": [
    "testSolvingRounds( \"boxer\",trials=10)"
   ]
  },
  {
   "cell_type": "code",
   "execution_count": 31,
   "id": "0bf54fa1-c001-4d78-bc22-0075fb9bdbd8",
   "metadata": {},
   "outputs": [
    {
     "data": {
      "text/plain": [
       "5"
      ]
     },
     "execution_count": 31,
     "metadata": {},
     "output_type": "execute_result"
    }
   ],
   "source": [
    "testSolvingRounds( \"boxer\",initial_guess='slate',trials=10)"
   ]
  },
  {
   "cell_type": "code",
   "execution_count": 32,
   "id": "0602c645-b938-4db6-8d78-85a46ac04560",
   "metadata": {},
   "outputs": [],
   "source": [
    "# bestSolver( allwordspace, allwordspace)"
   ]
  },
  {
   "cell_type": "code",
   "execution_count": 33,
   "id": "2c4c5fad-464a-4c1a-83bf-9158d647a4a7",
   "metadata": {},
   "outputs": [
    {
     "name": "stderr",
     "output_type": "stream",
     "text": [
      "Pandas Apply: 100%|███████████████████████| 4277/4277 [1:16:47<00:00,  1.08s/it]\n"
     ]
    }
   ],
   "source": [
    "allwordspace['stepsNeeded_slate'] = allwordspace.words.swifter.apply( lambda x: testSolvingRounds( x )) "
   ]
  },
  {
   "cell_type": "code",
   "execution_count": 34,
   "id": "a6efe3fc-108d-40d7-950d-46a37f3cd4d5",
   "metadata": {},
   "outputs": [
    {
     "data": {
      "text/plain": [
       "1"
      ]
     },
     "execution_count": 34,
     "metadata": {},
     "output_type": "execute_result"
    }
   ],
   "source": [
    "(allwordspace['stepsNeeded_slate']== allwordspace['stepsNeeded_slate'].min()).sum()"
   ]
  },
  {
   "cell_type": "code",
   "execution_count": 35,
   "id": "a6910f5b-e112-48be-a031-1cb3cbd81a18",
   "metadata": {},
   "outputs": [
    {
     "data": {
      "text/plain": [
       "<Axes: >"
      ]
     },
     "execution_count": 35,
     "metadata": {},
     "output_type": "execute_result"
    },
    {
     "data": {
      "image/png": "[encoded data removed]",
      "text/plain": [
       "<Figure size 640x480 with 1 Axes>"
      ]
     },
     "metadata": {},
     "output_type": "display_data"
    }
   ],
   "source": [
    "allwordspace['stepsNeeded_slate'].hist()"
   ]
  },
  {
   "cell_type": "code",
   "execution_count": 36,
   "id": "70675cd2-3a87-4882-b577-549d8d7b96fb",
   "metadata": {},
   "outputs": [
    {
     "data": {
      "text/plain": [
       "3.9081131634323123"
      ]
     },
     "execution_count": 36,
     "metadata": {},
     "output_type": "execute_result"
    }
   ],
   "source": [
    "allwordspace['stepsNeeded_slate'].mean()"
   ]
  },
  {
   "cell_type": "code",
   "execution_count": 37,
   "id": "d949b77a-f4bf-44d9-b249-2558660b1ecd",
   "metadata": {},
   "outputs": [
    {
     "data": {
      "text/html": [
       "<div>\n",
       "<style scoped>\n",
       "    .dataframe tbody tr th:only-of-type {\n",
       "        vertical-align: middle;\n",
       "    }\n",
       "\n",
       "    .dataframe tbody tr th {\n",
       "        vertical-align: top;\n",
       "    }\n",
       "\n",
       "    .dataframe thead th {\n",
       "        text-align: right;\n",
       "    }\n",
       "</style>\n",
       "<table border=\"1\" class=\"dataframe\">\n",
       "  <thead>\n",
       "    <tr style=\"text-align: right;\">\n",
       "      <th></th>\n",
       "      <th>words</th>\n",
       "      <th>stepsNeeded_slate</th>\n",
       "    </tr>\n",
       "  </thead>\n",
       "  <tbody>\n",
       "    <tr>\n",
       "      <th>1358</th>\n",
       "      <td>fight</td>\n",
       "      <td>7</td>\n",
       "    </tr>\n",
       "    <tr>\n",
       "      <th>1798</th>\n",
       "      <td>hight</td>\n",
       "      <td>7</td>\n",
       "    </tr>\n",
       "    <tr>\n",
       "      <th>1809</th>\n",
       "      <td>hitch</td>\n",
       "      <td>7</td>\n",
       "    </tr>\n",
       "    <tr>\n",
       "      <th>1957</th>\n",
       "      <td>jammy</td>\n",
       "      <td>7</td>\n",
       "    </tr>\n",
       "    <tr>\n",
       "      <th>2203</th>\n",
       "      <td>lolly</td>\n",
       "      <td>7</td>\n",
       "    </tr>\n",
       "    <tr>\n",
       "      <th>2275</th>\n",
       "      <td>mammy</td>\n",
       "      <td>7</td>\n",
       "    </tr>\n",
       "    <tr>\n",
       "      <th>4353</th>\n",
       "      <td>witch</td>\n",
       "      <td>7</td>\n",
       "    </tr>\n",
       "  </tbody>\n",
       "</table>\n",
       "</div>"
      ],
      "text/plain": [
       "      words  stepsNeeded_slate\n",
       "1358  fight                  7\n",
       "1798  hight                  7\n",
       "1809  hitch                  7\n",
       "1957  jammy                  7\n",
       "2203  lolly                  7\n",
       "2275  mammy                  7\n",
       "4353  witch                  7"
      ]
     },
     "execution_count": 37,
     "metadata": {},
     "output_type": "execute_result"
    }
   ],
   "source": [
    "allwordspace[allwordspace['stepsNeeded_slate']>6]"
   ]
  },
  {
   "cell_type": "code",
   "execution_count": 12,
   "id": "674c28cc-1e14-40f8-b076-4c284915ff38",
   "metadata": {},
   "outputs": [],
   "source": [
    "unsolvables = ['babby','hatch','hitch','might', \t'pappy', 'watch','witch', 'yappy'] \t"
   ]
  },
  {
   "cell_type": "code",
   "execution_count": 13,
   "id": "d2e8b37e-e7c3-4679-8952-005a24286b3b",
   "metadata": {},
   "outputs": [
    {
     "name": "stdout",
     "output_type": "stream",
     "text": [
      "babby 7\n",
      "hatch 7\n",
      "hitch 7\n",
      "might 7\n",
      "pappy 7\n",
      "watch 7\n",
      "witch 7\n",
      "yappy 7\n"
     ]
    }
   ],
   "source": [
    "for word in unsolvables:\n",
    "    print( word, testSolvingRounds(word, trials=15,initial_guess='slate'))"
   ]
  },
  {
   "cell_type": "code",
   "execution_count": 26,
   "id": "98552a0f-8c30-4b2a-8c95-018d517bc546",
   "metadata": {},
   "outputs": [],
   "source": [
    "unsolvables = allwordspace[allwordspace['stepsNeeded']== allwordspace['stepsNeeded'].min()].words.values"
   ]
  },
  {
   "cell_type": "code",
   "execution_count": 14,
   "id": "e6d8f421-9f73-40c3-bfd9-4560d15899a7",
   "metadata": {},
   "outputs": [],
   "source": [
    "unsolvables = ['borer', 'boxer', 'coper', 'cover', 'foyer', 'goner', 'hitch',\n",
    "       'hover', 'jammy', 'lolly', 'mammy', 'might', 'witch']"
   ]
  },
  {
   "cell_type": "code",
   "execution_count": 15,
   "id": "f244140b-ff61-4d78-ac28-629019a659af",
   "metadata": {},
   "outputs": [
    {
     "name": "stdout",
     "output_type": "stream",
     "text": [
      "borer 6\n",
      "boxer 6\n",
      "coper 6\n",
      "cover 6\n",
      "foyer 6\n",
      "goner 6\n",
      "hitch 7\n",
      "hover 6\n",
      "jammy 7\n",
      "lolly 7\n",
      "mammy 7\n",
      "might 5\n",
      "witch 7\n"
     ]
    }
   ],
   "source": [
    "for word in unsolvables:\n",
    "    print( word, testSolvingRounds(word, trials=15,initial_guess='raise'))"
   ]
  },
  {
   "cell_type": "code",
   "execution_count": null,
   "id": "75198507-da83-4c22-ac95-9c43e694f339",
   "metadata": {},
   "outputs": [],
   "source": []
  },
  {
   "cell_type": "code",
   "execution_count": 30,
   "id": "88fd6498-0476-4c38-adeb-cfe63703b42f",
   "metadata": {},
   "outputs": [
    {
     "data": {
      "text/plain": [
       "3.893058161350844"
      ]
     },
     "execution_count": 30,
     "metadata": {},
     "output_type": "execute_result"
    }
   ],
   "source": [
    "allwordspace[allwordspace['stepsNeeded'] > 0]['stepsNeeded'].mean()"
   ]
  },
  {
   "cell_type": "code",
   "execution_count": 19,
   "id": "d04750f0-47ce-4367-992e-f6bb62605aa2",
   "metadata": {},
   "outputs": [
    {
     "data": {
      "text/plain": [
       "0.9969604863221885"
      ]
     },
     "execution_count": 19,
     "metadata": {},
     "output_type": "execute_result"
    }
   ],
   "source": [
    "1 - (allwordspace['stepsNeeded']== allwordspace['stepsNeeded'].min()).sum() / len( allwordspace ) "
   ]
  },
  {
   "cell_type": "code",
   "execution_count": 32,
   "id": "df9c60b8-3adb-4db7-9dce-31a0bf01b5e6",
   "metadata": {},
   "outputs": [],
   "source": [
    "allwordspace.to_csv(\"summary-new-algo.csv\",index=False)"
   ]
  },
  {
   "cell_type": "code",
   "execution_count": 19,
   "id": "d6d3628f-83a4-424f-aabd-41bfe6d0624c",
   "metadata": {},
   "outputs": [],
   "source": [
    "allwordspace = pd.read_csv(\"summary.csv\")"
   ]
  },
  {
   "cell_type": "code",
   "execution_count": 31,
   "id": "9ee99d25-4c8f-40e5-901a-29207c94ed9d",
   "metadata": {},
   "outputs": [
    {
     "data": {
      "text/html": [
       "<div>\n",
       "<style scoped>\n",
       "    .dataframe tbody tr th:only-of-type {\n",
       "        vertical-align: middle;\n",
       "    }\n",
       "\n",
       "    .dataframe tbody tr th {\n",
       "        vertical-align: top;\n",
       "    }\n",
       "\n",
       "    .dataframe thead th {\n",
       "        text-align: right;\n",
       "    }\n",
       "</style>\n",
       "<table border=\"1\" class=\"dataframe\">\n",
       "  <thead>\n",
       "    <tr style=\"text-align: right;\">\n",
       "      <th></th>\n",
       "      <th>words</th>\n",
       "      <th>stepsNeeded</th>\n",
       "    </tr>\n",
       "  </thead>\n",
       "  <tbody>\n",
       "    <tr>\n",
       "      <th>484</th>\n",
       "      <td>borer</td>\n",
       "      <td>-1</td>\n",
       "    </tr>\n",
       "    <tr>\n",
       "      <th>504</th>\n",
       "      <td>boxer</td>\n",
       "      <td>-1</td>\n",
       "    </tr>\n",
       "    <tr>\n",
       "      <th>844</th>\n",
       "      <td>coper</td>\n",
       "      <td>-1</td>\n",
       "    </tr>\n",
       "    <tr>\n",
       "      <th>867</th>\n",
       "      <td>cover</td>\n",
       "      <td>-1</td>\n",
       "    </tr>\n",
       "    <tr>\n",
       "      <th>1458</th>\n",
       "      <td>foyer</td>\n",
       "      <td>-1</td>\n",
       "    </tr>\n",
       "    <tr>\n",
       "      <th>1621</th>\n",
       "      <td>goner</td>\n",
       "      <td>-1</td>\n",
       "    </tr>\n",
       "    <tr>\n",
       "      <th>1809</th>\n",
       "      <td>hitch</td>\n",
       "      <td>-1</td>\n",
       "    </tr>\n",
       "    <tr>\n",
       "      <th>1852</th>\n",
       "      <td>hover</td>\n",
       "      <td>-1</td>\n",
       "    </tr>\n",
       "    <tr>\n",
       "      <th>1957</th>\n",
       "      <td>jammy</td>\n",
       "      <td>-1</td>\n",
       "    </tr>\n",
       "    <tr>\n",
       "      <th>2203</th>\n",
       "      <td>lolly</td>\n",
       "      <td>-1</td>\n",
       "    </tr>\n",
       "    <tr>\n",
       "      <th>2275</th>\n",
       "      <td>mammy</td>\n",
       "      <td>-1</td>\n",
       "    </tr>\n",
       "    <tr>\n",
       "      <th>2361</th>\n",
       "      <td>might</td>\n",
       "      <td>-1</td>\n",
       "    </tr>\n",
       "    <tr>\n",
       "      <th>4353</th>\n",
       "      <td>witch</td>\n",
       "      <td>-1</td>\n",
       "    </tr>\n",
       "  </tbody>\n",
       "</table>\n",
       "</div>"
      ],
      "text/plain": [
       "      words  stepsNeeded\n",
       "484   borer           -1\n",
       "504   boxer           -1\n",
       "844   coper           -1\n",
       "867   cover           -1\n",
       "1458  foyer           -1\n",
       "1621  goner           -1\n",
       "1809  hitch           -1\n",
       "1852  hover           -1\n",
       "1957  jammy           -1\n",
       "2203  lolly           -1\n",
       "2275  mammy           -1\n",
       "2361  might           -1\n",
       "4353  witch           -1"
      ]
     },
     "execution_count": 31,
     "metadata": {},
     "output_type": "execute_result"
    }
   ],
   "source": [
    "allwordspace[allwordspace['stepsNeeded'] == -1]"
   ]
  },
  {
   "cell_type": "code",
   "execution_count": null,
   "id": "c34149bc-d7ec-407a-8dac-1cbf44ceb625",
   "metadata": {},
   "outputs": [],
   "source": []
  },
  {
   "cell_type": "code",
   "execution_count": null,
   "id": "7139789e-b77c-4f68-9aa5-6d2a037efeb2",
   "metadata": {},
   "outputs": [],
   "source": []
  },
  {
   "cell_type": "code",
   "execution_count": null,
   "id": "016ce756-e295-49e0-9e77-c9a1987c85b0",
   "metadata": {},
   "outputs": [],
   "source": []
  },
  {
   "cell_type": "code",
   "execution_count": null,
   "id": "fd8d80d2-2909-45b2-b327-10625d9404f4",
   "metadata": {},
   "outputs": [],
   "source": []
  }
 ],
 "metadata": {
  "kernelspec": {
   "display_name": "Python 3 (ipykernel)",
   "language": "python",
   "name": "python3"
  },
  "language_info": {
   "codemirror_mode": {
    "name": "ipython",
    "version": 3
   },
   "file_extension": ".py",
   "mimetype": "text/x-python",
   "name": "python",
   "nbconvert_exporter": "python",
   "pygments_lexer": "ipython3",
   "version": "3.10.12"
  }
 },
 "nbformat": 4,
 "nbformat_minor": 5
}
