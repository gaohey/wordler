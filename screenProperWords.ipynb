{
 "cells": [
  {
   "cell_type": "code",
   "execution_count": 1,
   "metadata": {},
   "outputs": [],
   "source": [
    "import pandas as pd\n",
    "from multiprocessing import Pool\n",
    "\n",
    "import os\n",
    "import tqdm\n",
    "\n",
    "five_word_lists =  pd.read_csv(\"all_words.csv\")\n",
    "five_word_lists.columns=['words']\n",
    "\n",
    "import requests\n",
    "base_url = \"https://api.dictionaryapi.dev/api/v2/entries/en/\"\n",
    "\n",
    "def checkIfWordExist( word ): \n",
    "\n",
    "    try: \n",
    "        response = requests.get( base_url + word )\n",
    "        data = response.json() \n",
    "        \n",
    "        if type( data ) == list:\n",
    "            return True \n",
    "        else:\n",
    "            return False \n",
    "    \n",
    "    except:\n",
    "        return \"failedQuery\"\n",
    "\n",
    "\n",
    "checkIfWordExist(\"hello\")\n",
    "fiveWordList = five_word_lists['words'].tolist()"
   ]
  },
  {
   "cell_type": "code",
   "execution_count": null,
   "metadata": {},
   "outputs": [],
   "source": [
    "five_word_lists['wordExistence'] = five_word_lists['words'].apply( checkIfWordExist )"
   ]
  },
  {
   "cell_type": "code",
   "execution_count": 23,
   "metadata": {},
   "outputs": [],
   "source": [
    "five_word_lists['wordExistence'] = None"
   ]
  },
  {
   "cell_type": "code",
   "execution_count": 25,
   "metadata": {},
   "outputs": [
    {
     "name": "stdout",
     "output_type": "stream",
     "text": [
      "0\n",
      "1\n",
      "2\n",
      "3\n",
      "4\n",
      "5\n",
      "6\n",
      "7\n",
      "8\n",
      "9\n",
      "10\n",
      "11\n",
      "12\n",
      "13\n",
      "14\n",
      "15\n",
      "16\n",
      "17\n",
      "18\n",
      "19\n",
      "20\n",
      "21\n",
      "22\n",
      "23\n",
      "24\n",
      "25\n",
      "26\n",
      "27\n",
      "28\n",
      "29\n",
      "30\n",
      "31\n",
      "32\n",
      "33\n",
      "34\n",
      "35\n",
      "36\n",
      "37\n",
      "38\n",
      "39\n",
      "40\n",
      "41\n",
      "42\n",
      "43\n",
      "44\n",
      "45\n",
      "46\n",
      "47\n",
      "48\n",
      "49\n",
      "50\n",
      "51\n",
      "52\n"
     ]
    }
   ],
   "source": [
    "split = 200\n",
    "for i in range( int( 10422 / split )+1 ):\n",
    "    \n",
    "    print ( i )\n",
    "    five_word_lists.iloc[ split * i :split*(i+1), 1 ] = five_word_lists.iloc[ split * i :split*(i+1), 0 ].apply( checkIfWordExist )"
   ]
  },
  {
   "cell_type": "code",
   "execution_count": 26,
   "metadata": {},
   "outputs": [],
   "source": [
    "five_word_lists.to_csv(\"validated_all_words.csv\")"
   ]
  },
  {
   "cell_type": "code",
   "execution_count": 28,
   "metadata": {},
   "outputs": [
    {
     "data": {
      "text/plain": [
       "0"
      ]
     },
     "execution_count": 28,
     "metadata": {},
     "output_type": "execute_result"
    }
   ],
   "source": [
    "(five_word_lists['wordExistence'] == 'failedQuery').sum()"
   ]
  },
  {
   "cell_type": "code",
   "execution_count": 29,
   "metadata": {},
   "outputs": [
    {
     "data": {
      "text/plain": [
       "4625"
      ]
     },
     "execution_count": 29,
     "metadata": {},
     "output_type": "execute_result"
    }
   ],
   "source": [
    "five_word_lists['wordExistence'].sum()"
   ]
  },
  {
   "cell_type": "code",
   "execution_count": 31,
   "metadata": {},
   "outputs": [
    {
     "data": {
      "text/html": [
       "<div>\n",
       "<style scoped>\n",
       "    .dataframe tbody tr th:only-of-type {\n",
       "        vertical-align: middle;\n",
       "    }\n",
       "\n",
       "    .dataframe tbody tr th {\n",
       "        vertical-align: top;\n",
       "    }\n",
       "\n",
       "    .dataframe thead th {\n",
       "        text-align: right;\n",
       "    }\n",
       "</style>\n",
       "<table border=\"1\" class=\"dataframe\">\n",
       "  <thead>\n",
       "    <tr style=\"text-align: right;\">\n",
       "      <th></th>\n",
       "      <th>words</th>\n",
       "      <th>wordExistence</th>\n",
       "    </tr>\n",
       "  </thead>\n",
       "  <tbody>\n",
       "    <tr>\n",
       "      <th>6637</th>\n",
       "      <td>polyp</td>\n",
       "      <td>True</td>\n",
       "    </tr>\n",
       "  </tbody>\n",
       "</table>\n",
       "</div>"
      ],
      "text/plain": [
       "      words wordExistence\n",
       "6637  polyp          True"
      ]
     },
     "execution_count": 31,
     "metadata": {},
     "output_type": "execute_result"
    }
   ],
   "source": [
    "five_word_lists[ five_word_lists['words']=='polyp' ] "
   ]
  },
  {
   "cell_type": "code",
   "execution_count": null,
   "metadata": {},
   "outputs": [],
   "source": []
  },
  {
   "cell_type": "code",
   "execution_count": 3,
   "metadata": {},
   "outputs": [
    {
     "name": "stderr",
     "output_type": "stream",
     "text": [
      "  0%|          | 0/10422 [00:00<?, ?it/s]"
     ]
    }
   ],
   "source": [
    "# pool = Pool(os.cpu_count())\n",
    "\n",
    "# results = []\n",
    "# for result in tqdm.tqdm( pool.imap_unordered(  checkIfWordExist, fiveWordList ), total = len( fiveWordList ) ):\n",
    "#     results.append( result )\n",
    "\n",
    "# print( results )"
   ]
  },
  {
   "cell_type": "code",
   "execution_count": 12,
   "metadata": {},
   "outputs": [
    {
     "name": "stdout",
     "output_type": "stream",
     "text": [
      "hello  exists\n",
      "fowly no exist\n",
      "volly no exist\n",
      "polyp  exists\n"
     ]
    }
   ],
   "source": [
    "# word = \"hello\"\n",
    "\n",
    "# for word in ['hello','fowly','volly','polyp']:\n",
    "#     response = requests.get( base_url + word )\n",
    "#     data = response.json() \n",
    "    \n",
    "#     if type( data ) == list:\n",
    "#         print(word, \" exists\")\n",
    "#     else:\n",
    "#         print(word, \"no exist\")"
   ]
  },
  {
   "cell_type": "code",
   "execution_count": 13,
   "metadata": {},
   "outputs": [],
   "source": [
    "import swifter"
   ]
  },
  {
   "cell_type": "code",
   "execution_count": 14,
   "metadata": {},
   "outputs": [],
   "source": []
  },
  {
   "cell_type": "code",
   "execution_count": 15,
   "metadata": {},
   "outputs": [
    {
     "data": {
      "text/plain": [
       "0    False\n",
       "1    False\n",
       "2     True\n",
       "3     True\n",
       "4    False\n",
       "Name: words, dtype: bool"
      ]
     },
     "execution_count": 15,
     "metadata": {},
     "output_type": "execute_result"
    }
   ],
   "source": [
    "five_word_lists.head(5)['words'].apply( checkIfWordExist )"
   ]
  },
  {
   "cell_type": "code",
   "execution_count": 16,
   "metadata": {},
   "outputs": [],
   "source": [
    "# five_word_lists['wordExistence'] = five_word_lists['words'].swifter.apply( checkIfWordExist )\n"
   ]
  },
  {
   "cell_type": "code",
   "execution_count": 17,
   "metadata": {},
   "outputs": [],
   "source": []
  },
  {
   "cell_type": "code",
   "execution_count": 18,
   "metadata": {},
   "outputs": [],
   "source": []
  },
  {
   "cell_type": "code",
   "execution_count": 19,
   "metadata": {},
   "outputs": [],
   "source": [
    "\n"
   ]
  },
  {
   "cell_type": "code",
   "execution_count": 20,
   "metadata": {},
   "outputs": [
    {
     "name": "stderr",
     "output_type": "stream",
     "text": [
      "  0%|          | 0/10422 [00:00<?, ?it/s]"
     ]
    }
   ],
   "source": [
    "\n"
   ]
  },
  {
   "cell_type": "code",
   "execution_count": 7,
   "metadata": {},
   "outputs": [],
   "source": []
  },
  {
   "cell_type": "code",
   "execution_count": 21,
   "metadata": {},
   "outputs": [
    {
     "data": {
      "text/plain": [
       "[False, False, True, True, False]"
      ]
     },
     "execution_count": 21,
     "metadata": {},
     "output_type": "execute_result"
    }
   ],
   "source": []
  },
  {
   "cell_type": "code",
   "execution_count": 32,
   "metadata": {},
   "outputs": [],
   "source": [
    "word = \"fowly\"\n",
    "response = requests.get( base_url + word )"
   ]
  },
  {
   "cell_type": "code",
   "execution_count": 33,
   "metadata": {},
   "outputs": [
    {
     "data": {
      "text/plain": [
       "{'title': 'No Definitions Found',\n",
       " 'message': \"Sorry pal, we couldn't find definitions for the word you were looking for.\",\n",
       " 'resolution': 'You can try the search again at later time or head to the web instead.'}"
      ]
     },
     "execution_count": 33,
     "metadata": {},
     "output_type": "execute_result"
    }
   ],
   "source": [
    "data = response.json()\n",
    "data"
   ]
  },
  {
   "cell_type": "code",
   "execution_count": 35,
   "metadata": {},
   "outputs": [
    {
     "data": {
      "text/plain": [
       "True"
      ]
     },
     "execution_count": 35,
     "metadata": {},
     "output_type": "execute_result"
    }
   ],
   "source": [
    "type(data)== dict "
   ]
  },
  {
   "cell_type": "code",
   "execution_count": 29,
   "metadata": {},
   "outputs": [
    {
     "data": {
      "text/plain": [
       "3"
      ]
     },
     "execution_count": 29,
     "metadata": {},
     "output_type": "execute_result"
    }
   ],
   "source": [
    "len(data)"
   ]
  },
  {
   "cell_type": "code",
   "execution_count": 30,
   "metadata": {},
   "outputs": [
    {
     "data": {
      "text/plain": [
       "[{'word': 'hello',\n",
       "  'phonetics': [{'audio': 'https://api.dictionaryapi.dev/media/pronunciations/en/hello-au.mp3',\n",
       "    'sourceUrl': 'https://commons.wikimedia.org/w/index.php?curid=75797336',\n",
       "    'license': {'name': 'BY-SA 4.0',\n",
       "     'url': 'https://creativecommons.org/licenses/by-sa/4.0'}},\n",
       "   {'text': '/həˈləʊ/',\n",
       "    'audio': 'https://api.dictionaryapi.dev/media/pronunciations/en/hello-uk.mp3',\n",
       "    'sourceUrl': 'https://commons.wikimedia.org/w/index.php?curid=9021983',\n",
       "    'license': {'name': 'BY 3.0 US',\n",
       "     'url': 'https://creativecommons.org/licenses/by/3.0/us'}},\n",
       "   {'text': '/həˈloʊ/', 'audio': ''}],\n",
       "  'meanings': [{'partOfSpeech': 'noun',\n",
       "    'definitions': [{'definition': '\"Hello!\" or an equivalent greeting.',\n",
       "      'synonyms': [],\n",
       "      'antonyms': []}],\n",
       "    'synonyms': ['greeting'],\n",
       "    'antonyms': []},\n",
       "   {'partOfSpeech': 'verb',\n",
       "    'definitions': [{'definition': 'To greet with \"hello\".',\n",
       "      'synonyms': [],\n",
       "      'antonyms': []}],\n",
       "    'synonyms': [],\n",
       "    'antonyms': []},\n",
       "   {'partOfSpeech': 'interjection',\n",
       "    'definitions': [{'definition': 'A greeting (salutation) said when meeting someone or acknowledging someone’s arrival or presence.',\n",
       "      'synonyms': [],\n",
       "      'antonyms': [],\n",
       "      'example': 'Hello, everyone.'},\n",
       "     {'definition': 'A greeting used when answering the telephone.',\n",
       "      'synonyms': [],\n",
       "      'antonyms': [],\n",
       "      'example': 'Hello? How may I help you?'},\n",
       "     {'definition': 'A call for response if it is not clear if anyone is present or listening, or if a telephone conversation may have been disconnected.',\n",
       "      'synonyms': [],\n",
       "      'antonyms': [],\n",
       "      'example': 'Hello? Is anyone there?'},\n",
       "     {'definition': 'Used sarcastically to imply that the person addressed or referred to has done something the speaker or writer considers to be foolish.',\n",
       "      'synonyms': [],\n",
       "      'antonyms': [],\n",
       "      'example': 'You just tried to start your car with your cell phone. Hello?'},\n",
       "     {'definition': 'An expression of puzzlement or discovery.',\n",
       "      'synonyms': [],\n",
       "      'antonyms': [],\n",
       "      'example': 'Hello! What’s going on here?'}],\n",
       "    'synonyms': [],\n",
       "    'antonyms': ['bye', 'goodbye']}],\n",
       "  'license': {'name': 'CC BY-SA 3.0',\n",
       "   'url': 'https://creativecommons.org/licenses/by-sa/3.0'},\n",
       "  'sourceUrls': ['https://en.wiktionary.org/wiki/hello']}]"
      ]
     },
     "execution_count": 30,
     "metadata": {},
     "output_type": "execute_result"
    }
   ],
   "source": [
    "word = \"hello\"\n",
    "response = requests.get( base_url + word )\n",
    "data = response.json()\n",
    "data"
   ]
  },
  {
   "cell_type": "code",
   "execution_count": 31,
   "metadata": {},
   "outputs": [
    {
     "data": {
      "text/plain": [
       "list"
      ]
     },
     "execution_count": 31,
     "metadata": {},
     "output_type": "execute_result"
    }
   ],
   "source": [
    "type(data)"
   ]
  },
  {
   "cell_type": "code",
   "execution_count": null,
   "metadata": {},
   "outputs": [],
   "source": []
  }
 ],
 "metadata": {
  "kernelspec": {
   "display_name": "base",
   "language": "python",
   "name": "python3"
  },
  "language_info": {
   "codemirror_mode": {
    "name": "ipython",
    "version": 3
   },
   "file_extension": ".py",
   "mimetype": "text/x-python",
   "name": "python",
   "nbconvert_exporter": "python",
   "pygments_lexer": "ipython3",
   "version": "3.9.7"
  },
  "orig_nbformat": 4
 },
 "nbformat": 4,
 "nbformat_minor": 2
}
