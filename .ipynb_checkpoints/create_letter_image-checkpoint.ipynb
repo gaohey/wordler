{
 "cells": [
  {
   "cell_type": "code",
   "execution_count": 1,
   "id": "39e841cb-f50e-4d02-a6b2-cb84781213df",
   "metadata": {},
   "outputs": [],
   "source": [
    "from PIL import Image, ImageDraw\n"
   ]
  },
  {
   "cell_type": "code",
   "execution_count": 7,
   "id": "23824555-78e7-4dee-889d-798197c76cce",
   "metadata": {},
   "outputs": [],
   "source": [
    "     \n",
    "img = Image.new('RGB', (100, 100), color = (73, 109, 137))\n",
    " \n",
    "d = ImageDraw.Draw(img)\n",
    "d.text((50,50), \"H\", fill=(255,255,0))\n",
    " \n",
    "img.save('letter_image/pil_text.png')"
   ]
  },
  {
   "cell_type": "code",
   "execution_count": null,
   "id": "d792d051-6279-4642-ac08-0a1687fcd1f8",
   "metadata": {},
   "outputs": [],
   "source": []
  },
  {
   "cell_type": "code",
   "execution_count": null,
   "id": "a92742ba-a240-4ec2-8ee9-84e2301ecda9",
   "metadata": {},
   "outputs": [],
   "source": []
  },
  {
   "cell_type": "code",
   "execution_count": 18,
   "id": "b92ba490-2e78-449d-91a7-3c7e0b34df3c",
   "metadata": {},
   "outputs": [
    {
     "ename": "TypeError",
     "evalue": "load_default() takes 0 positional arguments but 1 was given",
     "output_type": "error",
     "traceback": [
      "\u001b[0;31m---------------------------------------------------------------------------\u001b[0m",
      "\u001b[0;31mTypeError\u001b[0m                                 Traceback (most recent call last)",
      "Cell \u001b[0;32mIn[18], line 10\u001b[0m\n\u001b[1;32m      7\u001b[0m draw \u001b[38;5;241m=\u001b[39m ImageDraw\u001b[38;5;241m.\u001b[39mDraw(image)\n\u001b[1;32m      9\u001b[0m \u001b[38;5;66;03m# use a bitmap font\u001b[39;00m\n\u001b[0;32m---> 10\u001b[0m font \u001b[38;5;241m=\u001b[39m \u001b[43mImageFont\u001b[49m\u001b[38;5;241;43m.\u001b[39;49m\u001b[43mload_default\u001b[49m\u001b[43m(\u001b[49m\u001b[38;5;241;43m100\u001b[39;49m\u001b[43m)\u001b[49m\n\u001b[1;32m     12\u001b[0m draw\u001b[38;5;241m.\u001b[39mtext((\u001b[38;5;241m10\u001b[39m, \u001b[38;5;241m10\u001b[39m), \u001b[38;5;124m\"\u001b[39m\u001b[38;5;124mhello\u001b[39m\u001b[38;5;124m\"\u001b[39m, font\u001b[38;5;241m=\u001b[39mfont)\n\u001b[1;32m     14\u001b[0m image\u001b[38;5;241m.\u001b[39mshow()\n",
      "\u001b[0;31mTypeError\u001b[0m: load_default() takes 0 positional arguments but 1 was given"
     ]
    }
   ],
   "source": [
    "# draw_truetype.py\n",
    "\n",
    "from PIL import Image, ImageDraw, ImageFont\n",
    "\n",
    "image = Image.new('RGB', (100, 100), color = (73, 109, 137))\n",
    "\n",
    "draw = ImageDraw.Draw(image)\n",
    "\n",
    "# use a bitmap font\n",
    "font = ImageFont.load_default(100)\n",
    "\n",
    "draw.text((10, 10), \"hello\", font=font)\n",
    "\n",
    "image.show()"
   ]
  },
  {
   "cell_type": "code",
   "execution_count": 20,
   "id": "871546d5-e74a-453c-876f-3c0cba39a814",
   "metadata": {},
   "outputs": [],
   "source": [
    "from PIL import Image,ImageDraw,ImageFont\n",
    "\n",
    "# sample text and font\n",
    "unicode_text = u\"Hello World!\"\n",
    "font = ImageFont.truetype(\"/usr/share/fonts/truetype/freefont/FreeMono.ttf\", 28, encoding=\"unic\")\n",
    "\n",
    "# get the line size\n",
    "text_width, text_height = font.getsize(unicode_text)\n",
    "\n",
    "# create a blank canvas with extra space between lines\n",
    "canvas = Image.new('RGB', (text_width + 10, text_height + 10), \"orange\")\n",
    "\n",
    "# draw the text onto the text canvas, and use blue as the text color\n",
    "draw = ImageDraw.Draw(canvas)\n",
    "draw.text((5,5), u'H', 'blue', font)\n",
    "\n",
    "# save the blank canvas to a file\n",
    "canvas.save(\"unicode-text.png\", \"PNG\")\n",
    "canvas.show()"
   ]
  },
  {
   "cell_type": "code",
   "execution_count": null,
   "id": "32e62392-c771-4103-8281-7098e2d67ee8",
   "metadata": {},
   "outputs": [],
   "source": []
  }
 ],
 "metadata": {
  "kernelspec": {
   "display_name": "Python 3 (ipykernel)",
   "language": "python",
   "name": "python3"
  },
  "language_info": {
   "codemirror_mode": {
    "name": "ipython",
    "version": 3
   },
   "file_extension": ".py",
   "mimetype": "text/x-python",
   "name": "python",
   "nbconvert_exporter": "python",
   "pygments_lexer": "ipython3",
   "version": "3.10.12"
  }
 },
 "nbformat": 4,
 "nbformat_minor": 5
}
