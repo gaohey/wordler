{
 "cells": [
  {
   "cell_type": "code",
   "execution_count": 46,
   "id": "7d6e5ae9",
   "metadata": {},
   "outputs": [],
   "source": [
    "import pandas as pd\n",
    "\n",
    "five_word_lists = pd.read_csv('five_letter_words_from_books.csv') # pd.read_csv(\"all_words.csv\")\n",
    "\n",
    "five_word_lists.columns=['words']\n",
    "\n",
    "five_word_lists['words'] =  five_word_lists.words.str.lower()"
   ]
  },
  {
   "cell_type": "code",
   "execution_count": 47,
   "id": "cc539bfa",
   "metadata": {},
   "outputs": [
    {
     "data": {
      "text/plain": [
       "(4684, 1)"
      ]
     },
     "execution_count": 47,
     "metadata": {},
     "output_type": "execute_result"
    }
   ],
   "source": [
    "five_word_lists.shape"
   ]
  },
  {
   "cell_type": "code",
   "execution_count": 48,
   "id": "b009fa0f",
   "metadata": {},
   "outputs": [],
   "source": [
    "five_word_lists = five_word_lists.drop_duplicates()"
   ]
  },
  {
   "cell_type": "code",
   "execution_count": 49,
   "id": "97ecba24",
   "metadata": {},
   "outputs": [
    {
     "data": {
      "text/plain": [
       "(4684, 1)"
      ]
     },
     "execution_count": 49,
     "metadata": {},
     "output_type": "execute_result"
    }
   ],
   "source": [
    "five_word_lists.shape"
   ]
  },
  {
   "cell_type": "code",
   "execution_count": 50,
   "id": "d8786b34",
   "metadata": {},
   "outputs": [
    {
     "data": {
      "text/html": [
       "<div>\n",
       "<style scoped>\n",
       "    .dataframe tbody tr th:only-of-type {\n",
       "        vertical-align: middle;\n",
       "    }\n",
       "\n",
       "    .dataframe tbody tr th {\n",
       "        vertical-align: top;\n",
       "    }\n",
       "\n",
       "    .dataframe thead th {\n",
       "        text-align: right;\n",
       "    }\n",
       "</style>\n",
       "<table border=\"1\" class=\"dataframe\">\n",
       "  <thead>\n",
       "    <tr style=\"text-align: right;\">\n",
       "      <th></th>\n",
       "      <th>words</th>\n",
       "    </tr>\n",
       "  </thead>\n",
       "  <tbody>\n",
       "    <tr>\n",
       "      <th>0</th>\n",
       "      <td>blend</td>\n",
       "    </tr>\n",
       "    <tr>\n",
       "      <th>1</th>\n",
       "      <td>nymph</td>\n",
       "    </tr>\n",
       "    <tr>\n",
       "      <th>2</th>\n",
       "      <td>rehob</td>\n",
       "    </tr>\n",
       "    <tr>\n",
       "      <th>3</th>\n",
       "      <td>trees</td>\n",
       "    </tr>\n",
       "    <tr>\n",
       "      <th>4</th>\n",
       "      <td>snout</td>\n",
       "    </tr>\n",
       "    <tr>\n",
       "      <th>...</th>\n",
       "      <td>...</td>\n",
       "    </tr>\n",
       "    <tr>\n",
       "      <th>4679</th>\n",
       "      <td>feuer</td>\n",
       "    </tr>\n",
       "    <tr>\n",
       "      <th>4680</th>\n",
       "      <td>dirty</td>\n",
       "    </tr>\n",
       "    <tr>\n",
       "      <th>4681</th>\n",
       "      <td>plato</td>\n",
       "    </tr>\n",
       "    <tr>\n",
       "      <th>4682</th>\n",
       "      <td>river</td>\n",
       "    </tr>\n",
       "    <tr>\n",
       "      <th>4683</th>\n",
       "      <td>holon</td>\n",
       "    </tr>\n",
       "  </tbody>\n",
       "</table>\n",
       "<p>4684 rows × 1 columns</p>\n",
       "</div>"
      ],
      "text/plain": [
       "      words\n",
       "0     blend\n",
       "1     nymph\n",
       "2     rehob\n",
       "3     trees\n",
       "4     snout\n",
       "...     ...\n",
       "4679  feuer\n",
       "4680  dirty\n",
       "4681  plato\n",
       "4682  river\n",
       "4683  holon\n",
       "\n",
       "[4684 rows x 1 columns]"
      ]
     },
     "execution_count": 50,
     "metadata": {},
     "output_type": "execute_result"
    }
   ],
   "source": [
    "five_word_lists"
   ]
  },
  {
   "cell_type": "code",
   "execution_count": 51,
   "id": "5c17a613",
   "metadata": {},
   "outputs": [
    {
     "data": {
      "text/plain": [
       "datetime.datetime(2023, 7, 16, 11, 13, 21, 866784)"
      ]
     },
     "execution_count": 51,
     "metadata": {},
     "output_type": "execute_result"
    }
   ],
   "source": [
    "import datetime\n",
    "datetime.datetime.now()"
   ]
  },
  {
   "cell_type": "code",
   "execution_count": 52,
   "id": "f146fcd6",
   "metadata": {},
   "outputs": [],
   "source": [
    "def genWordQuery(  guess, score ):\n",
    "    return \"&\".join( [ genLetterQuery(  guess[i], int(score[i]), i ) for i in range(5) ] )"
   ]
  },
  {
   "cell_type": "code",
   "execution_count": null,
   "id": "d931e6e5",
   "metadata": {},
   "outputs": [],
   "source": []
  },
  {
   "cell_type": "code",
   "execution_count": null,
   "id": "f9068582",
   "metadata": {},
   "outputs": [],
   "source": []
  },
  {
   "cell_type": "code",
   "execution_count": 53,
   "id": "7a33af22",
   "metadata": {},
   "outputs": [],
   "source": [
    "## \n",
    "\n",
    "def genLetterQuery(  letter, score, i ):\n",
    "    \n",
    "    query = \"\"\n",
    "    if score == 2:\n",
    "        query = \" words.str[%d] == '%s' \"% (i, letter)\n",
    "    elif score == 1:\n",
    "        query =  \" words.str.contains('%s') & words.str[%d] != '%s' \" % (letter, i, letter ) # ( wdList.words.str.contains( letter ) ) &  ( wdList.words.str[i] != letter ) \n",
    "    else:\n",
    "        query = \" (~words.str.contains('%s')) \" %  letter ## ( ~ wdList.words.str.contains( letter ) )\n",
    "    \n",
    "    return query \n",
    "\n",
    "\n"
   ]
  },
  {
   "cell_type": "code",
   "execution_count": 54,
   "id": "17252557",
   "metadata": {},
   "outputs": [],
   "source": [
    "## filters\n",
    "\n",
    "def genLetterFilter(  wdList, letter, score ,i ):\n",
    "    if score == 2:\n",
    "        filt = ( wdList.words.str[i] == letter )\n",
    "    elif score == 1:\n",
    "        filt =  ( wdList.words.str.contains( letter ) ) &  ( wdList.words.str[i] != letter ) \n",
    "    else:\n",
    "        filt = ( ~ wdList.words.str.contains( letter ) )\n",
    "    \n",
    "    return filt \n",
    "        \n",
    "\n",
    "\n",
    "def genWordFilter( wdList, guess, scores  ):\n",
    "    \n",
    "    filt = wdList.words.str.len() >0 \n",
    "\n",
    "    for i in range(5):\n",
    "        filt = filt & genLetterFilter(  wdList, guess[i], int(scores[i]), i  )   \n",
    "        \n",
    "    return filt\n",
    "\n"
   ]
  },
  {
   "cell_type": "code",
   "execution_count": 55,
   "id": "6596c005",
   "metadata": {},
   "outputs": [],
   "source": [
    "def genScore( guess, answer ):\n",
    "\n",
    "    score = \"\"\n",
    "    for i in range(5):\n",
    "        if guess[i] == answer[i]:\n",
    "            score = score + \"2\"\n",
    "        elif guess[i] in answer:\n",
    "            score = score +\"1\"\n",
    "        else:\n",
    "            score = score +\"0\"\n",
    "    return score"
   ]
  },
  {
   "cell_type": "code",
   "execution_count": 56,
   "id": "09380ff4",
   "metadata": {},
   "outputs": [
    {
     "data": {
      "text/plain": [
       "'02120'"
      ]
     },
     "execution_count": 56,
     "metadata": {},
     "output_type": "execute_result"
    }
   ],
   "source": [
    "genScore(\"apple\",\"spill\")"
   ]
  },
  {
   "cell_type": "code",
   "execution_count": null,
   "id": "7ad64951",
   "metadata": {},
   "outputs": [],
   "source": []
  },
  {
   "cell_type": "code",
   "execution_count": 57,
   "id": "fc56a57a",
   "metadata": {},
   "outputs": [],
   "source": [
    "def next_list_len( word_list, guess, answer ):\n",
    "    scores = genScore( guess, answer )\n",
    "#     return word_list.query( genWordQuery( guess, scores ) ).shape[0]\n",
    "\n",
    "#     return len( filterWords( word_list, guess, scores ) ) \n",
    "    return len( genWordSet( guess, scores ) )\n",
    "\n",
    "def avg_len_among_choices( guess,  word_list ):\n",
    "    \n",
    "    ## this word list should be the remaining word list \n",
    "    ## but what I input it should be the total word list - as in maybe some choices of word can have better elimination \n",
    "    ## this word is the answer and I'll see what the remain length is if I make this guess\n",
    "   \n",
    "    \n",
    "    avg_len =  word_list.words.apply( lambda x: next_list_len( word_list, guess, x ) ).mean() \n",
    "    \n",
    "    return avg_len"
   ]
  },
  {
   "cell_type": "code",
   "execution_count": 59,
   "id": "3609dc13",
   "metadata": {},
   "outputs": [],
   "source": [
    "allletters = list( five_word_lists.groupby( five_word_lists.words.str[0] )['words'].count().index )"
   ]
  },
  {
   "cell_type": "code",
   "execution_count": null,
   "id": "a7a345c2",
   "metadata": {},
   "outputs": [],
   "source": []
  },
  {
   "cell_type": "code",
   "execution_count": null,
   "id": "0b5e6ae0",
   "metadata": {},
   "outputs": [],
   "source": []
  },
  {
   "cell_type": "code",
   "execution_count": null,
   "id": "933c9155",
   "metadata": {},
   "outputs": [],
   "source": []
  },
  {
   "cell_type": "code",
   "execution_count": 60,
   "id": "412f1ec8",
   "metadata": {},
   "outputs": [
    {
     "data": {
      "text/html": [
       "<div>\n",
       "<style scoped>\n",
       "    .dataframe tbody tr th:only-of-type {\n",
       "        vertical-align: middle;\n",
       "    }\n",
       "\n",
       "    .dataframe tbody tr th {\n",
       "        vertical-align: top;\n",
       "    }\n",
       "\n",
       "    .dataframe thead th {\n",
       "        text-align: right;\n",
       "    }\n",
       "</style>\n",
       "<table border=\"1\" class=\"dataframe\">\n",
       "  <thead>\n",
       "    <tr style=\"text-align: right;\">\n",
       "      <th></th>\n",
       "      <th>words</th>\n",
       "    </tr>\n",
       "  </thead>\n",
       "  <tbody>\n",
       "  </tbody>\n",
       "</table>\n",
       "</div>"
      ],
      "text/plain": [
       "Empty DataFrame\n",
       "Columns: [words]\n",
       "Index: []"
      ]
     },
     "execution_count": 60,
     "metadata": {},
     "output_type": "execute_result"
    }
   ],
   "source": [
    "five_word_lists[ five_word_lists.words.str.contains('æ') ] "
   ]
  },
  {
   "cell_type": "code",
   "execution_count": null,
   "id": "c37088c0",
   "metadata": {},
   "outputs": [],
   "source": []
  },
  {
   "cell_type": "code",
   "execution_count": 61,
   "id": "6a76febf",
   "metadata": {},
   "outputs": [],
   "source": [
    "def word_to_dict( word ):\n",
    "    return [ (word[i], i) for i in range(5) ]\n",
    "\n",
    "letter_dict =  { l:{  i:set() for i in range(5)} for l in allletters }\n",
    "\n",
    "for word in five_word_lists.words:\n",
    "    for w, i in word_to_dict(word):\n",
    "        try:\n",
    "            letter_dict[ w ][ i ].add(word)\n",
    "        except: \n",
    "            print(word)\n",
    "        \n",
    "        \n",
    "word_with_letter = { l:set() for l in allletters }\n",
    "\n",
    "for word in five_word_lists.words:\n",
    "    for w, i in word_to_dict(word):\n",
    "        word_with_letter[ w ].add(word)\n",
    "\n",
    "word_without_letter = { l:set() for l in allletters }        \n",
    "for word in five_word_lists.words:\n",
    "    for l in allletters:\n",
    "        if l not in word:\n",
    "            word_without_letter[ l ].add(word)\n"
   ]
  },
  {
   "cell_type": "code",
   "execution_count": 62,
   "id": "e4679e58",
   "metadata": {},
   "outputs": [],
   "source": [
    "allwordSet = set( five_word_lists.words )"
   ]
  },
  {
   "cell_type": "code",
   "execution_count": 63,
   "id": "b21416e3",
   "metadata": {},
   "outputs": [],
   "source": [
    "pos_dict = { i:{  l:set() for l in allletters } for i in range(5) }\n",
    "\n",
    "for word in five_word_lists.words:\n",
    "    for w, i in word_to_dict(word):\n",
    "        pos_dict[ i ][ w ].add(word)\n"
   ]
  },
  {
   "cell_type": "code",
   "execution_count": 64,
   "id": "37d4b51e",
   "metadata": {},
   "outputs": [],
   "source": [
    "## word with letter L, but not at i-sth spot\n",
    "\n",
    "word_with_letter_L_not_at_i = { l:{  i:set() for i in range(5)} for l in allletters }\n",
    "for word in five_word_lists.words:\n",
    "    for l in allletters:\n",
    "        for i in range(5):\n",
    "            if (l in word) and (word[i] != l):\n",
    "                word_with_letter_L_not_at_i[ l ][i].add(word)"
   ]
  },
  {
   "cell_type": "code",
   "execution_count": 65,
   "id": "b17b0794",
   "metadata": {},
   "outputs": [],
   "source": [
    "## 0, exclude \n",
    "## 2, intersect \n",
    "## \n",
    "test_word = \"apple\"\n",
    "test_score = \"02120\"\n",
    "\n"
   ]
  },
  {
   "cell_type": "code",
   "execution_count": 66,
   "id": "4a31a2cf",
   "metadata": {},
   "outputs": [],
   "source": [
    "\n",
    "a = datetime.datetime.now()\n",
    "\n",
    "\n",
    "def genSet0( letter, pos ):\n",
    "    \n",
    "    return word_with_letter[letter]\n",
    "\n",
    "def genSet1( letter, pos ):\n",
    "    \n",
    "    return word_with_letter_L_not_at_i[letter][int(pos)]\n",
    "\n",
    "\n",
    "def genSet2( letter, pos ):\n",
    "    return letter_dict[letter][pos]\n",
    "\n",
    "\n",
    "def genWordSet( word, scores ):\n",
    "    \n",
    "    toExclude = [set()]\n",
    "    toIntersect = [ allwordSet ]\n",
    "    \n",
    "    for i in range(5):\n",
    "        if int(scores[i]) == 0:\n",
    "            toExclude.append( genSet0( word[i], i) )\n",
    "        elif int(scores[i]) == 1:\n",
    "            toIntersect.append( genSet1( word[i],i ) )\n",
    "        else:\n",
    "            toIntersect.append(  genSet2( word[i], i ))\n",
    "            \n",
    "    return set.intersection( *toIntersect ).difference( set.union( *toExclude ) )\n",
    "    \n",
    "\n"
   ]
  },
  {
   "cell_type": "code",
   "execution_count": 67,
   "id": "92c39a13",
   "metadata": {},
   "outputs": [
    {
     "name": "stdout",
     "output_type": "stream",
     "text": [
      "2\n",
      "0:00:00\n"
     ]
    }
   ],
   "source": [
    "a = datetime.datetime.now()\n",
    "final = genWordSet(\"apple\", genScore( \"apple\",\"spill\" ) )#\"02120\")\n",
    "print(len(final))\n",
    "print( datetime.datetime.now() - a )"
   ]
  },
  {
   "cell_type": "code",
   "execution_count": null,
   "id": "fec2e63d",
   "metadata": {},
   "outputs": [],
   "source": []
  },
  {
   "cell_type": "code",
   "execution_count": 68,
   "id": "76244272",
   "metadata": {},
   "outputs": [
    {
     "name": "stdout",
     "output_type": "stream",
     "text": [
      "2\n",
      "0:00:00.005005\n"
     ]
    }
   ],
   "source": [
    "a = datetime.datetime.now()\n",
    "tempScore = genScore( \"apple\",\"spill\" )\n",
    "\n",
    "temp = five_word_lists.words.apply( lambda x: genScore('apple', x) )\n",
    "print( (temp == tempScore).sum() )\n",
    "print( datetime.datetime.now() - a )"
   ]
  },
  {
   "cell_type": "markdown",
   "id": "17ff24b3",
   "metadata": {},
   "source": [
    "# Genius"
   ]
  },
  {
   "cell_type": "code",
   "execution_count": 69,
   "id": "461fd872",
   "metadata": {},
   "outputs": [],
   "source": [
    "def nextLenTemp( guess, wdList ):\n",
    "#     wdList = wdList.copy()\n",
    "#     wdList['score'] = \n",
    "    score_count = wdList.groupby( wdList.words.apply( lambda x: genScore(guess, x) ) )['words'].count()\n",
    "    return (score_count * score_count).sum() / len(wdList)"
   ]
  },
  {
   "cell_type": "code",
   "execution_count": 70,
   "id": "af254c3a",
   "metadata": {},
   "outputs": [
    {
     "data": {
      "text/plain": [
       "364.9077711357814"
      ]
     },
     "execution_count": 70,
     "metadata": {},
     "output_type": "execute_result"
    }
   ],
   "source": [
    "nextLenTemp(\"apple\",five_word_lists)"
   ]
  },
  {
   "cell_type": "code",
   "execution_count": null,
   "id": "2ad70634",
   "metadata": {},
   "outputs": [],
   "source": []
  },
  {
   "cell_type": "code",
   "execution_count": null,
   "id": "57cd1586",
   "metadata": {},
   "outputs": [],
   "source": []
  },
  {
   "cell_type": "code",
   "execution_count": null,
   "id": "02772e3d",
   "metadata": {},
   "outputs": [],
   "source": []
  },
  {
   "cell_type": "code",
   "execution_count": null,
   "id": "75ba9e5a",
   "metadata": {},
   "outputs": [],
   "source": []
  },
  {
   "cell_type": "code",
   "execution_count": 71,
   "id": "047d95dc",
   "metadata": {},
   "outputs": [],
   "source": [
    "five_word_list_stat = five_word_lists.copy()"
   ]
  },
  {
   "cell_type": "code",
   "execution_count": 72,
   "id": "ae274c6f",
   "metadata": {},
   "outputs": [],
   "source": [
    "import swifter"
   ]
  },
  {
   "cell_type": "code",
   "execution_count": 73,
   "id": "ff866df9",
   "metadata": {},
   "outputs": [
    {
     "name": "stdout",
     "output_type": "stream",
     "text": [
      "0:00:00.730503\n"
     ]
    }
   ],
   "source": [
    "a = datetime.datetime.now()\n",
    "apple_stats = five_word_lists.words.apply( lambda x : next_list_len( five_word_lists, \"apple\", x ) )\n",
    "print( datetime.datetime.now() - a )"
   ]
  },
  {
   "cell_type": "code",
   "execution_count": 74,
   "id": "a69e25ab",
   "metadata": {},
   "outputs": [
    {
     "data": {
      "text/plain": [
       "364.9077711357814"
      ]
     },
     "execution_count": 74,
     "metadata": {},
     "output_type": "execute_result"
    }
   ],
   "source": [
    "apple_stats.mean()"
   ]
  },
  {
   "cell_type": "code",
   "execution_count": 76,
   "id": "29f6b95c",
   "metadata": {},
   "outputs": [
    {
     "name": "stdout",
     "output_type": "stream",
     "text": [
      "0:00:00.006006\n"
     ]
    }
   ],
   "source": [
    "a = datetime.datetime.now()\n",
    "apple_stats = nextLenTemp( \"apple\", five_word_lists )\n",
    "print( datetime.datetime.now() - a )"
   ]
  },
  {
   "cell_type": "code",
   "execution_count": 77,
   "id": "1a05f731",
   "metadata": {},
   "outputs": [
    {
     "data": {
      "text/plain": [
       "inf"
      ]
     },
     "execution_count": 77,
     "metadata": {},
     "output_type": "execute_result"
    }
   ],
   "source": [
    "temp.mean() "
   ]
  },
  {
   "cell_type": "code",
   "execution_count": null,
   "id": "b3721213",
   "metadata": {},
   "outputs": [],
   "source": []
  },
  {
   "cell_type": "code",
   "execution_count": 78,
   "id": "597fda8f",
   "metadata": {
    "scrolled": true
   },
   "outputs": [
    {
     "data": {
      "application/vnd.jupyter.widget-view+json": {
       "model_id": "2bfd5fe2bbaf41c19f477c653f71cf3f",
       "version_major": 2,
       "version_minor": 0
      },
      "text/plain": [
       "Pandas Apply:   0%|          | 0/4684 [00:00<?, ?it/s]"
      ]
     },
     "metadata": {},
     "output_type": "display_data"
    }
   ],
   "source": [
    "temp  = five_word_lists.words.swifter.apply( lambda x: nextLenTemp( x, five_word_lists ) )"
   ]
  },
  {
   "cell_type": "code",
   "execution_count": 79,
   "id": "1a66854a",
   "metadata": {},
   "outputs": [],
   "source": [
    "five_word_list_stat['stats'] = temp"
   ]
  },
  {
   "cell_type": "code",
   "execution_count": 80,
   "id": "bcbc736f",
   "metadata": {},
   "outputs": [
    {
     "data": {
      "text/plain": [
       "88"
      ]
     },
     "execution_count": 80,
     "metadata": {},
     "output_type": "execute_result"
    }
   ],
   "source": [
    "import gc\n",
    "gc.collect()"
   ]
  },
  {
   "cell_type": "code",
   "execution_count": 81,
   "id": "e9d2e408",
   "metadata": {},
   "outputs": [],
   "source": [
    "# five_word_list_stat.to_csv(\"stat.csv\",index=False)"
   ]
  },
  {
   "cell_type": "code",
   "execution_count": 65,
   "id": "52a0314f",
   "metadata": {},
   "outputs": [
    {
     "data": {
      "text/html": [
       "<div>\n",
       "<style scoped>\n",
       "    .dataframe tbody tr th:only-of-type {\n",
       "        vertical-align: middle;\n",
       "    }\n",
       "\n",
       "    .dataframe tbody tr th {\n",
       "        vertical-align: top;\n",
       "    }\n",
       "\n",
       "    .dataframe thead th {\n",
       "        text-align: right;\n",
       "    }\n",
       "</style>\n",
       "<table border=\"1\" class=\"dataframe\">\n",
       "  <thead>\n",
       "    <tr style=\"text-align: right;\">\n",
       "      <th></th>\n",
       "      <th>words</th>\n",
       "      <th>stats</th>\n",
       "    </tr>\n",
       "  </thead>\n",
       "  <tbody>\n",
       "    <tr>\n",
       "      <th>237</th>\n",
       "      <td>saile</td>\n",
       "      <td>101.543980</td>\n",
       "    </tr>\n",
       "    <tr>\n",
       "      <th>1369</th>\n",
       "      <td>aries</td>\n",
       "      <td>97.059351</td>\n",
       "    </tr>\n",
       "    <tr>\n",
       "      <th>2143</th>\n",
       "      <td>soare</td>\n",
       "      <td>101.497011</td>\n",
       "    </tr>\n",
       "    <tr>\n",
       "      <th>2459</th>\n",
       "      <td>saner</td>\n",
       "      <td>101.229291</td>\n",
       "    </tr>\n",
       "    <tr>\n",
       "      <th>2466</th>\n",
       "      <td>raise</td>\n",
       "      <td>101.226302</td>\n",
       "    </tr>\n",
       "    <tr>\n",
       "      <th>2824</th>\n",
       "      <td>tares</td>\n",
       "      <td>101.913749</td>\n",
       "    </tr>\n",
       "  </tbody>\n",
       "</table>\n",
       "</div>"
      ],
      "text/plain": [
       "      words       stats\n",
       "237   saile  101.543980\n",
       "1369  aries   97.059351\n",
       "2143  soare  101.497011\n",
       "2459  saner  101.229291\n",
       "2466  raise  101.226302\n",
       "2824  tares  101.913749"
      ]
     },
     "execution_count": 65,
     "metadata": {},
     "output_type": "execute_result"
    }
   ],
   "source": [
    "five_word_list_stat[five_word_list_stat.stats <105]"
   ]
  },
  {
   "cell_type": "code",
   "execution_count": 39,
   "id": "3a463c3c",
   "metadata": {},
   "outputs": [
    {
     "data": {
      "text/html": [
       "<div>\n",
       "<style scoped>\n",
       "    .dataframe tbody tr th:only-of-type {\n",
       "        vertical-align: middle;\n",
       "    }\n",
       "\n",
       "    .dataframe tbody tr th {\n",
       "        vertical-align: top;\n",
       "    }\n",
       "\n",
       "    .dataframe thead th {\n",
       "        text-align: right;\n",
       "    }\n",
       "</style>\n",
       "<table border=\"1\" class=\"dataframe\">\n",
       "  <thead>\n",
       "    <tr style=\"text-align: right;\">\n",
       "      <th></th>\n",
       "      <th>words</th>\n",
       "      <th>stats</th>\n",
       "    </tr>\n",
       "  </thead>\n",
       "  <tbody>\n",
       "    <tr>\n",
       "      <th>1369</th>\n",
       "      <td>aries</td>\n",
       "      <td>97.06661</td>\n",
       "    </tr>\n",
       "  </tbody>\n",
       "</table>\n",
       "</div>"
      ],
      "text/plain": [
       "      words     stats\n",
       "1369  aries  97.06661"
      ]
     },
     "execution_count": 39,
     "metadata": {},
     "output_type": "execute_result"
    }
   ],
   "source": [
    "five_word_list_stat[ five_word_list_stat.stats == five_word_list_stat['stats'].min() ] "
   ]
  },
  {
   "cell_type": "code",
   "execution_count": 66,
   "id": "e6cbf4e1",
   "metadata": {},
   "outputs": [
    {
     "data": {
      "text/plain": [
       "0.001     101.796532\n",
       "0.999    2268.942193\n",
       "Name: stats, dtype: float64"
      ]
     },
     "execution_count": 66,
     "metadata": {},
     "output_type": "execute_result"
    }
   ],
   "source": [
    "five_word_list_stat.stats.quantile([0.001,0.999])"
   ]
  },
  {
   "cell_type": "code",
   "execution_count": 67,
   "id": "3d139bac",
   "metadata": {},
   "outputs": [
    {
     "data": {
      "text/plain": [
       "<AxesSubplot:>"
      ]
     },
     "execution_count": 67,
     "metadata": {},
     "output_type": "execute_result"
    },
    {
     "data": {
      "image/png": "[encoded data removed]",
      "text/plain": [
       "<Figure size 432x288 with 1 Axes>"
      ]
     },
     "metadata": {
      "needs_background": "light"
     },
     "output_type": "display_data"
    }
   ],
   "source": [
    "five_word_list_stat.stats.hist() "
   ]
  },
  {
   "cell_type": "code",
   "execution_count": 82,
   "id": "d31d69cb",
   "metadata": {},
   "outputs": [],
   "source": [
    "def nextWordList( wordList, guess, scores ):\n",
    "    return wordList[ genWordFilter( wordList, guess, scores ) ]"
   ]
  },
  {
   "cell_type": "code",
   "execution_count": 83,
   "id": "bd3f93c3",
   "metadata": {},
   "outputs": [],
   "source": [
    "def bestGuessLen( word_lists ):\n",
    "    return word_lists.words.apply( lambda x: nextLenTemp( x, word_lists ) ).min() "
   ]
  },
  {
   "cell_type": "code",
   "execution_count": 84,
   "id": "d2c7f9b3",
   "metadata": {},
   "outputs": [],
   "source": [
    "def wordler_iteration( word_lists ):\n",
    "    \n",
    "    guessEndListLen = word_lists.words.apply( lambda x: nextLenTemp( x, word_lists ) )\n",
    "    \n",
    "    bestGuess = word_lists.loc[ guessEndListLen == guessEndListLen.min() ,'words' ].values[0]\n",
    "    \n",
    "    return bestGuess"
   ]
  },
  {
   "cell_type": "code",
   "execution_count": 85,
   "id": "288d5496",
   "metadata": {},
   "outputs": [],
   "source": [
    "def bestSolver( choiceSpace, answerSpace ):\n",
    "    \n",
    "    guessEndListLen = choiceSpace.words.apply( lambda x: nextLenTemp( x, answerSpace ) )\n",
    "    \n",
    "    bestGuess = choiceSpace.loc[ guessEndListLen == guessEndListLen.min() ,'words' ].values[0]\n",
    "    return bestGuess"
   ]
  },
  {
   "cell_type": "code",
   "execution_count": 89,
   "id": "9e694777",
   "metadata": {},
   "outputs": [
    {
     "data": {
      "text/plain": [
       "'aries'"
      ]
     },
     "execution_count": 89,
     "metadata": {},
     "output_type": "execute_result"
    }
   ],
   "source": [
    "## to see the global best guess\n",
    "bestSolver( five_word_lists, five_word_lists)"
   ]
  },
  {
   "cell_type": "code",
   "execution_count": 86,
   "id": "487a3186",
   "metadata": {},
   "outputs": [],
   "source": [
    "tempWD = five_word_lists.copy()\n"
   ]
  },
  {
   "cell_type": "code",
   "execution_count": 87,
   "id": "3908d34d",
   "metadata": {},
   "outputs": [
    {
     "data": {
      "text/plain": [
       "'sweet'"
      ]
     },
     "execution_count": 87,
     "metadata": {},
     "output_type": "execute_result"
    }
   ],
   "source": [
    "\n",
    "guess='sheet'\n",
    "score = '20222'\n",
    "\n",
    "\n",
    "tempWD = nextWordList( tempWD, guess, score )\n",
    "guess = wordler_iteration( tempWD )\n",
    "guess"
   ]
  },
  {
   "cell_type": "code",
   "execution_count": null,
   "id": "9db2627f",
   "metadata": {},
   "outputs": [],
   "source": []
  },
  {
   "cell_type": "code",
   "execution_count": 88,
   "id": "50056a10",
   "metadata": {
    "scrolled": true
   },
   "outputs": [
    {
     "name": "stdout",
     "output_type": "stream",
     "text": [
      "trial 0\n",
      "answer is today  guess is lucky guess is rainy guess is today win in 3 rounds\n"
     ]
    }
   ],
   "source": [
    "## run loops to see what is the avg trials \n",
    "\n",
    "trials = []\n",
    "for n in range(1):\n",
    "    \n",
    "    print('trial %d'%n)\n",
    "    \n",
    "    tempAnswer = 'today' # five_word_lists.words.sample(1).values[0]\n",
    "    guess = 'lucky'# five_word_lists.words.sample(1).values[0] ##\n",
    "    \n",
    "    print(\"answer is %s \" % tempAnswer,end=\" \")\n",
    "    isWin = False \n",
    "    \n",
    "    tempWD = five_word_lists.copy()\n",
    "    for i in range( 6 ):\n",
    "        \n",
    "        print('guess is %s' % guess, end=\" \" )\n",
    "        score = genScore( guess, tempAnswer )\n",
    "        \n",
    "        if score == '22222':\n",
    "            isWin = True \n",
    "            break\n",
    "        \n",
    "        ## make a guess base on eliminattions \n",
    "        \n",
    "        tempWD = nextWordList( tempWD, guess, score )\n",
    "        \n",
    "        \n",
    "#         guess = bestSolver(five_word_lists, tempWD )\n",
    "        \n",
    "        \n",
    "        guess = wordler_iteration( tempWD )\n",
    "    \n",
    "    if isWin == True:\n",
    "        print( \"win in %d rounds\" % (i+1) )\n",
    "        trials.append( i+1 )\n",
    "    else:\n",
    "        print('losseeeee')\n",
    "        trials.append( 7 )"
   ]
  },
  {
   "cell_type": "code",
   "execution_count": 75,
   "id": "fae0b53b",
   "metadata": {},
   "outputs": [
    {
     "data": {
      "text/plain": [
       "0    0\n",
       "dtype: int64"
      ]
     },
     "execution_count": 75,
     "metadata": {},
     "output_type": "execute_result"
    }
   ],
   "source": [
    "(pd.DataFrame(trials)>6).sum()"
   ]
  },
  {
   "cell_type": "code",
   "execution_count": null,
   "id": "be169874",
   "metadata": {},
   "outputs": [],
   "source": []
  },
  {
   "cell_type": "code",
   "execution_count": null,
   "id": "9af36ac2",
   "metadata": {},
   "outputs": [],
   "source": []
  },
  {
   "cell_type": "code",
   "execution_count": 76,
   "id": "52150a3a",
   "metadata": {},
   "outputs": [],
   "source": [
    "## every position has these possibel words \n",
    "## eliminate the words "
   ]
  },
  {
   "cell_type": "code",
   "execution_count": 77,
   "id": "8c654a27",
   "metadata": {},
   "outputs": [
    {
     "data": {
      "text/html": [
       "<div>\n",
       "<style scoped>\n",
       "    .dataframe tbody tr th:only-of-type {\n",
       "        vertical-align: middle;\n",
       "    }\n",
       "\n",
       "    .dataframe tbody tr th {\n",
       "        vertical-align: top;\n",
       "    }\n",
       "\n",
       "    .dataframe thead th {\n",
       "        text-align: right;\n",
       "    }\n",
       "</style>\n",
       "<table border=\"1\" class=\"dataframe\">\n",
       "  <thead>\n",
       "    <tr style=\"text-align: right;\">\n",
       "      <th></th>\n",
       "      <th>words</th>\n",
       "    </tr>\n",
       "  </thead>\n",
       "  <tbody>\n",
       "    <tr>\n",
       "      <th>0</th>\n",
       "      <td>blend</td>\n",
       "    </tr>\n",
       "    <tr>\n",
       "      <th>1</th>\n",
       "      <td>nymph</td>\n",
       "    </tr>\n",
       "    <tr>\n",
       "      <th>2</th>\n",
       "      <td>rehob</td>\n",
       "    </tr>\n",
       "    <tr>\n",
       "      <th>3</th>\n",
       "      <td>trees</td>\n",
       "    </tr>\n",
       "    <tr>\n",
       "      <th>4</th>\n",
       "      <td>snout</td>\n",
       "    </tr>\n",
       "    <tr>\n",
       "      <th>...</th>\n",
       "      <td>...</td>\n",
       "    </tr>\n",
       "    <tr>\n",
       "      <th>4679</th>\n",
       "      <td>feuer</td>\n",
       "    </tr>\n",
       "    <tr>\n",
       "      <th>4680</th>\n",
       "      <td>dirty</td>\n",
       "    </tr>\n",
       "    <tr>\n",
       "      <th>4681</th>\n",
       "      <td>plato</td>\n",
       "    </tr>\n",
       "    <tr>\n",
       "      <th>4682</th>\n",
       "      <td>river</td>\n",
       "    </tr>\n",
       "    <tr>\n",
       "      <th>4683</th>\n",
       "      <td>holon</td>\n",
       "    </tr>\n",
       "  </tbody>\n",
       "</table>\n",
       "<p>4684 rows × 1 columns</p>\n",
       "</div>"
      ],
      "text/plain": [
       "      words\n",
       "0     blend\n",
       "1     nymph\n",
       "2     rehob\n",
       "3     trees\n",
       "4     snout\n",
       "...     ...\n",
       "4679  feuer\n",
       "4680  dirty\n",
       "4681  plato\n",
       "4682  river\n",
       "4683  holon\n",
       "\n",
       "[4684 rows x 1 columns]"
      ]
     },
     "execution_count": 77,
     "metadata": {},
     "output_type": "execute_result"
    }
   ],
   "source": [
    "five_word_lists"
   ]
  },
  {
   "cell_type": "code",
   "execution_count": 84,
   "id": "c551e7e5",
   "metadata": {},
   "outputs": [],
   "source": [
    "after_first = nextWordList( five_word_lists, \"water\", \"01100\" )"
   ]
  },
  {
   "cell_type": "code",
   "execution_count": 85,
   "id": "6063385d",
   "metadata": {
    "scrolled": true
   },
   "outputs": [
    {
     "data": {
      "text/html": [
       "<div>\n",
       "<style scoped>\n",
       "    .dataframe tbody tr th:only-of-type {\n",
       "        vertical-align: middle;\n",
       "    }\n",
       "\n",
       "    .dataframe tbody tr th {\n",
       "        vertical-align: top;\n",
       "    }\n",
       "\n",
       "    .dataframe thead th {\n",
       "        text-align: right;\n",
       "    }\n",
       "</style>\n",
       "<table border=\"1\" class=\"dataframe\">\n",
       "  <thead>\n",
       "    <tr style=\"text-align: right;\">\n",
       "      <th></th>\n",
       "      <th>words</th>\n",
       "    </tr>\n",
       "  </thead>\n",
       "  <tbody>\n",
       "    <tr>\n",
       "      <th>148</th>\n",
       "      <td>thank</td>\n",
       "    </tr>\n",
       "    <tr>\n",
       "      <th>156</th>\n",
       "      <td>gyant</td>\n",
       "    </tr>\n",
       "    <tr>\n",
       "      <th>173</th>\n",
       "      <td>tubal</td>\n",
       "    </tr>\n",
       "    <tr>\n",
       "      <th>241</th>\n",
       "      <td>aunts</td>\n",
       "    </tr>\n",
       "    <tr>\n",
       "      <th>330</th>\n",
       "      <td>staff</td>\n",
       "    </tr>\n",
       "    <tr>\n",
       "      <th>...</th>\n",
       "      <td>...</td>\n",
       "    </tr>\n",
       "    <tr>\n",
       "      <th>4378</th>\n",
       "      <td>ducat</td>\n",
       "    </tr>\n",
       "    <tr>\n",
       "      <th>4498</th>\n",
       "      <td>aiath</td>\n",
       "    </tr>\n",
       "    <tr>\n",
       "      <th>4557</th>\n",
       "      <td>flats</td>\n",
       "    </tr>\n",
       "    <tr>\n",
       "      <th>4593</th>\n",
       "      <td>clapt</td>\n",
       "    </tr>\n",
       "    <tr>\n",
       "      <th>4681</th>\n",
       "      <td>plato</td>\n",
       "    </tr>\n",
       "  </tbody>\n",
       "</table>\n",
       "<p>84 rows × 1 columns</p>\n",
       "</div>"
      ],
      "text/plain": [
       "      words\n",
       "148   thank\n",
       "156   gyant\n",
       "173   tubal\n",
       "241   aunts\n",
       "330   staff\n",
       "...     ...\n",
       "4378  ducat\n",
       "4498  aiath\n",
       "4557  flats\n",
       "4593  clapt\n",
       "4681  plato\n",
       "\n",
       "[84 rows x 1 columns]"
      ]
     },
     "execution_count": 85,
     "metadata": {},
     "output_type": "execute_result"
    }
   ],
   "source": [
    "# after_first['stats']  = after_first.words.apply( lambda x: avg_len_among_choices( x, after_first ) )\n",
    "after_first"
   ]
  },
  {
   "cell_type": "code",
   "execution_count": 86,
   "id": "6ee3b97f",
   "metadata": {},
   "outputs": [],
   "source": [
    "after_second = nextWordList( after_first, \"today\", \"22020\" )"
   ]
  },
  {
   "cell_type": "code",
   "execution_count": 87,
   "id": "9f120d43",
   "metadata": {
    "scrolled": true
   },
   "outputs": [
    {
     "data": {
      "text/html": [
       "<div>\n",
       "<style scoped>\n",
       "    .dataframe tbody tr th:only-of-type {\n",
       "        vertical-align: middle;\n",
       "    }\n",
       "\n",
       "    .dataframe tbody tr th {\n",
       "        vertical-align: top;\n",
       "    }\n",
       "\n",
       "    .dataframe thead th {\n",
       "        text-align: right;\n",
       "    }\n",
       "</style>\n",
       "<table border=\"1\" class=\"dataframe\">\n",
       "  <thead>\n",
       "    <tr style=\"text-align: right;\">\n",
       "      <th></th>\n",
       "      <th>words</th>\n",
       "    </tr>\n",
       "  </thead>\n",
       "  <tbody>\n",
       "    <tr>\n",
       "      <th>445</th>\n",
       "      <td>togas</td>\n",
       "    </tr>\n",
       "    <tr>\n",
       "      <th>3003</th>\n",
       "      <td>topaz</td>\n",
       "    </tr>\n",
       "  </tbody>\n",
       "</table>\n",
       "</div>"
      ],
      "text/plain": [
       "      words\n",
       "445   togas\n",
       "3003  topaz"
      ]
     },
     "execution_count": 87,
     "metadata": {},
     "output_type": "execute_result"
    }
   ],
   "source": [
    "after_second"
   ]
  },
  {
   "cell_type": "code",
   "execution_count": 55,
   "id": "f3a3c0e9",
   "metadata": {},
   "outputs": [],
   "source": [
    "after_third = nextWordList( after_second, \"chose\", \"00201\" )"
   ]
  },
  {
   "cell_type": "code",
   "execution_count": 50,
   "id": "451be2cf",
   "metadata": {},
   "outputs": [
    {
     "ename": "NameError",
     "evalue": "name 'after_third' is not defined",
     "output_type": "error",
     "traceback": [
      "\u001b[1;31m---------------------------------------------------------------------------\u001b[0m",
      "\u001b[1;31mNameError\u001b[0m                                 Traceback (most recent call last)",
      "\u001b[1;32m~\\AppData\\Local\\Temp/ipykernel_22120/78305080.py\u001b[0m in \u001b[0;36m<module>\u001b[1;34m\u001b[0m\n\u001b[1;32m----> 1\u001b[1;33m \u001b[0mafter_third\u001b[0m\u001b[1;33m\u001b[0m\u001b[1;33m\u001b[0m\u001b[0m\n\u001b[0m",
      "\u001b[1;31mNameError\u001b[0m: name 'after_third' is not defined"
     ]
    }
   ],
   "source": [
    "after_third"
   ]
  },
  {
   "cell_type": "code",
   "execution_count": 58,
   "id": "903a0930",
   "metadata": {},
   "outputs": [
    {
     "data": {
      "text/html": [
       "<div>\n",
       "<style scoped>\n",
       "    .dataframe tbody tr th:only-of-type {\n",
       "        vertical-align: middle;\n",
       "    }\n",
       "\n",
       "    .dataframe tbody tr th {\n",
       "        vertical-align: top;\n",
       "    }\n",
       "\n",
       "    .dataframe thead th {\n",
       "        text-align: right;\n",
       "    }\n",
       "</style>\n",
       "<table border=\"1\" class=\"dataframe\">\n",
       "  <thead>\n",
       "    <tr style=\"text-align: right;\">\n",
       "      <th></th>\n",
       "      <th>words</th>\n",
       "    </tr>\n",
       "  </thead>\n",
       "  <tbody>\n",
       "    <tr>\n",
       "      <th>881</th>\n",
       "      <td>renew</td>\n",
       "    </tr>\n",
       "    <tr>\n",
       "      <th>2286</th>\n",
       "      <td>rekem</td>\n",
       "    </tr>\n",
       "    <tr>\n",
       "      <th>3431</th>\n",
       "      <td>regem</td>\n",
       "    </tr>\n",
       "  </tbody>\n",
       "</table>\n",
       "</div>"
      ],
      "text/plain": [
       "      words\n",
       "881   renew\n",
       "2286  rekem\n",
       "3431  regem"
      ]
     },
     "execution_count": 58,
     "metadata": {},
     "output_type": "execute_result"
    }
   ],
   "source": [
    "after_fourth = nextWordList( after_third, \"refer\", \"22021\" )\n",
    "after_fourth"
   ]
  },
  {
   "cell_type": "code",
   "execution_count": null,
   "id": "6470c091",
   "metadata": {},
   "outputs": [],
   "source": [
    "after_fif = nextWordList( after_fourth, \"drive\", \"02202\" )\n",
    "after_fif"
   ]
  },
  {
   "cell_type": "code",
   "execution_count": null,
   "id": "a1931cd2",
   "metadata": {},
   "outputs": [],
   "source": [
    "## apart from the fixed words \n",
    "## what are the differentiating words \n",
    "## choose a word that can seperate the groups the most \n"
   ]
  },
  {
   "cell_type": "code",
   "execution_count": 88,
   "id": "cc86bc88",
   "metadata": {},
   "outputs": [],
   "source": [
    "\n",
    "\n",
    "\n",
    "def guess_and_return( word_list, guess, score ):\n",
    "    \n",
    "\n",
    "    pass\n",
    "    \n",
    "    return "
   ]
  },
  {
   "cell_type": "code",
   "execution_count": 89,
   "id": "4216d54c",
   "metadata": {},
   "outputs": [],
   "source": [
    "## common word frequency - use it to filter words \n"
   ]
  },
  {
   "cell_type": "code",
   "execution_count": 90,
   "id": "5825660f",
   "metadata": {},
   "outputs": [],
   "source": [
    "df_five = five_word_lists.words.str.split('',expand=True)\n",
    "df_five = df_five[[1,2,3,4,5]]\n",
    "df_five.columns = ['mon','tue','wed','thu','fri']"
   ]
  },
  {
   "cell_type": "code",
   "execution_count": 91,
   "id": "5f212f3f",
   "metadata": {},
   "outputs": [],
   "source": [
    "counts = [ df_five.groupby(col)[col].count() for col in df_five.columns ] "
   ]
  },
  {
   "cell_type": "code",
   "execution_count": 92,
   "id": "f8d5539d",
   "metadata": {},
   "outputs": [],
   "source": [
    "word_appearences_freq = pd.DataFrame(counts).T"
   ]
  },
  {
   "cell_type": "code",
   "execution_count": 93,
   "id": "c06f4aff",
   "metadata": {},
   "outputs": [
    {
     "data": {
      "text/plain": [
       "['s', 'a', 'a', 'e', 's']"
      ]
     },
     "execution_count": 93,
     "metadata": {},
     "output_type": "execute_result"
    }
   ],
   "source": [
    "[ word_appearences_freq[col].idxmax() for col in word_appearences_freq.columns ]"
   ]
  },
  {
   "cell_type": "code",
   "execution_count": 94,
   "id": "5ab56524",
   "metadata": {},
   "outputs": [],
   "source": [
    "freq_dict = word_appearences_freq.to_dict()"
   ]
  },
  {
   "cell_type": "code",
   "execution_count": 95,
   "id": "b0f66358",
   "metadata": {},
   "outputs": [
    {
     "data": {
      "text/plain": [
       "613.0"
      ]
     },
     "execution_count": 95,
     "metadata": {},
     "output_type": "execute_result"
    }
   ],
   "source": [
    "\n",
    "test='sdfa'\n",
    "freq_dict['mon'][test[0]]\n"
   ]
  },
  {
   "cell_type": "code",
   "execution_count": null,
   "id": "b9389401",
   "metadata": {},
   "outputs": [],
   "source": []
  },
  {
   "cell_type": "code",
   "execution_count": null,
   "id": "9a852258",
   "metadata": {},
   "outputs": [],
   "source": [
    "five_word_lists['counts'] = five_word_lists.words.apply(word_sum)"
   ]
  },
  {
   "cell_type": "code",
   "execution_count": null,
   "id": "fa87d8c1",
   "metadata": {},
   "outputs": [],
   "source": [
    "five_word_lists.loc[five_word_lists.counts == five_word_lists['counts'].max() ]"
   ]
  },
  {
   "cell_type": "code",
   "execution_count": null,
   "id": "06618a70",
   "metadata": {},
   "outputs": [],
   "source": []
  },
  {
   "cell_type": "code",
   "execution_count": null,
   "id": "10cbc1ac",
   "metadata": {},
   "outputs": [],
   "source": []
  }
 ],
 "metadata": {
  "kernelspec": {
   "display_name": "Python 3 (ipykernel)",
   "language": "python",
   "name": "python3"
  },
  "language_info": {
   "codemirror_mode": {
    "name": "ipython",
    "version": 3
   },
   "file_extension": ".py",
   "mimetype": "text/x-python",
   "name": "python",
   "nbconvert_exporter": "python",
   "pygments_lexer": "ipython3",
   "version": "3.9.7"
  }
 },
 "nbformat": 4,
 "nbformat_minor": 5
}
