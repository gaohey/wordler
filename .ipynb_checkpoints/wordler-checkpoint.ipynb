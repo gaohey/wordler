{
 "cells": [
  {
   "cell_type": "code",
   "execution_count": 1,
   "id": "7d6e5ae9",
   "metadata": {},
   "outputs": [],
   "source": [
    "import pandas as pd\n",
    "\n",
    "five_word_lists =  pd.read_csv(\"validated__words.csv\") # pd.read_csv('five_letter_words_from_books.csv') #\n",
    "\n",
    "five_word_lists.columns=['words']\n",
    "\n",
    "five_word_lists['words'] =  five_word_lists.words.str.lower()"
   ]
  },
  {
   "cell_type": "code",
   "execution_count": 2,
   "id": "8cef269a",
   "metadata": {},
   "outputs": [],
   "source": [
    "# import swifter"
   ]
  },
  {
   "cell_type": "code",
   "execution_count": 3,
   "id": "cc539bfa",
   "metadata": {},
   "outputs": [
    {
     "data": {
      "text/plain": [
       "(4625, 1)"
      ]
     },
     "execution_count": 3,
     "metadata": {},
     "output_type": "execute_result"
    }
   ],
   "source": [
    "five_word_lists.shape"
   ]
  },
  {
   "cell_type": "code",
   "execution_count": 4,
   "id": "b009fa0f",
   "metadata": {},
   "outputs": [],
   "source": [
    "five_word_lists = five_word_lists.drop_duplicates()"
   ]
  },
  {
   "cell_type": "code",
   "execution_count": 5,
   "id": "97ecba24",
   "metadata": {},
   "outputs": [
    {
     "data": {
      "text/plain": [
       "(4276, 1)"
      ]
     },
     "execution_count": 5,
     "metadata": {},
     "output_type": "execute_result"
    }
   ],
   "source": [
    "five_word_lists.shape"
   ]
  },
  {
   "cell_type": "code",
   "execution_count": 6,
   "id": "d8786b34",
   "metadata": {},
   "outputs": [
    {
     "data": {
      "text/html": [
       "<div>\n",
       "<style scoped>\n",
       "    .dataframe tbody tr th:only-of-type {\n",
       "        vertical-align: middle;\n",
       "    }\n",
       "\n",
       "    .dataframe tbody tr th {\n",
       "        vertical-align: top;\n",
       "    }\n",
       "\n",
       "    .dataframe thead th {\n",
       "        text-align: right;\n",
       "    }\n",
       "</style>\n",
       "<table border=\"1\" class=\"dataframe\">\n",
       "  <thead>\n",
       "    <tr style=\"text-align: right;\">\n",
       "      <th></th>\n",
       "      <th>words</th>\n",
       "    </tr>\n",
       "  </thead>\n",
       "  <tbody>\n",
       "    <tr>\n",
       "      <th>0</th>\n",
       "      <td>abaca</td>\n",
       "    </tr>\n",
       "    <tr>\n",
       "      <th>1</th>\n",
       "      <td>aback</td>\n",
       "    </tr>\n",
       "    <tr>\n",
       "      <th>2</th>\n",
       "      <td>abaft</td>\n",
       "    </tr>\n",
       "    <tr>\n",
       "      <th>3</th>\n",
       "      <td>abase</td>\n",
       "    </tr>\n",
       "    <tr>\n",
       "      <th>4</th>\n",
       "      <td>abash</td>\n",
       "    </tr>\n",
       "    <tr>\n",
       "      <th>...</th>\n",
       "      <td>...</td>\n",
       "    </tr>\n",
       "    <tr>\n",
       "      <th>4431</th>\n",
       "      <td>zonal</td>\n",
       "    </tr>\n",
       "    <tr>\n",
       "      <th>4432</th>\n",
       "      <td>zoned</td>\n",
       "    </tr>\n",
       "    <tr>\n",
       "      <th>4433</th>\n",
       "      <td>zooid</td>\n",
       "    </tr>\n",
       "    <tr>\n",
       "      <th>4434</th>\n",
       "      <td>zorro</td>\n",
       "    </tr>\n",
       "    <tr>\n",
       "      <th>4435</th>\n",
       "      <td>zowie</td>\n",
       "    </tr>\n",
       "  </tbody>\n",
       "</table>\n",
       "<p>4276 rows × 1 columns</p>\n",
       "</div>"
      ],
      "text/plain": [
       "      words\n",
       "0     abaca\n",
       "1     aback\n",
       "2     abaft\n",
       "3     abase\n",
       "4     abash\n",
       "...     ...\n",
       "4431  zonal\n",
       "4432  zoned\n",
       "4433  zooid\n",
       "4434  zorro\n",
       "4435  zowie\n",
       "\n",
       "[4276 rows x 1 columns]"
      ]
     },
     "execution_count": 6,
     "metadata": {},
     "output_type": "execute_result"
    }
   ],
   "source": [
    "five_word_lists"
   ]
  },
  {
   "cell_type": "code",
   "execution_count": 7,
   "id": "d6f725a5",
   "metadata": {},
   "outputs": [],
   "source": [
    "# first_guess = 'world'\n",
    "# first_score = '00020'\n",
    "\n",
    "\n",
    "# ## product of the words \n",
    "# ## "
   ]
  },
  {
   "cell_type": "code",
   "execution_count": 8,
   "id": "484e4e2e",
   "metadata": {},
   "outputs": [],
   "source": [
    "# f = (~ five_word_lists.words.str.contains('w')) & (~ five_word_lists.words.str.contains('o'))  & (~ five_word_lists.words.str.contains('r') )&   ( five_word_lists.words.str[3]=='l' ) & (~ five_word_lists.words.str.contains('d') ) "
   ]
  },
  {
   "cell_type": "code",
   "execution_count": 9,
   "id": "7e065b61",
   "metadata": {},
   "outputs": [],
   "source": [
    "# after_first = five_word_lists[f]\n",
    "# after_first"
   ]
  },
  {
   "cell_type": "code",
   "execution_count": 10,
   "id": "772f98a0",
   "metadata": {},
   "outputs": [],
   "source": [
    "# second_guesss = 'apple'\n",
    "# second_score = '02120'"
   ]
  },
  {
   "cell_type": "code",
   "execution_count": 11,
   "id": "561e9851",
   "metadata": {},
   "outputs": [],
   "source": [
    "# f2 = (~ after_first.words.str.contains('a')) & (after_first.words.str[1]==\"p\") &(~ five_word_lists.words.str.contains('e') ) "
   ]
  },
  {
   "cell_type": "code",
   "execution_count": 12,
   "id": "8f89ebd2",
   "metadata": {},
   "outputs": [],
   "source": [
    "# after_first[f2]"
   ]
  },
  {
   "cell_type": "code",
   "execution_count": 13,
   "id": "5c17a613",
   "metadata": {},
   "outputs": [
    {
     "data": {
      "text/plain": [
       "datetime.datetime(2023, 8, 19, 11, 25, 31, 746545)"
      ]
     },
     "execution_count": 13,
     "metadata": {},
     "output_type": "execute_result"
    }
   ],
   "source": [
    "import datetime\n",
    "datetime.datetime.now()"
   ]
  },
  {
   "cell_type": "code",
   "execution_count": 14,
   "id": "df925c91",
   "metadata": {},
   "outputs": [],
   "source": [
    "## another way of query this \n",
    "## split the matrix into 5 columns and filter by the ones with 2 and 0"
   ]
  },
  {
   "cell_type": "code",
   "execution_count": null,
   "id": "6b6e78df",
   "metadata": {},
   "outputs": [],
   "source": []
  },
  {
   "cell_type": "code",
   "execution_count": null,
   "id": "b15d8a67",
   "metadata": {},
   "outputs": [],
   "source": []
  },
  {
   "cell_type": "code",
   "execution_count": null,
   "id": "d931e6e5",
   "metadata": {},
   "outputs": [],
   "source": []
  },
  {
   "cell_type": "code",
   "execution_count": null,
   "id": "f9068582",
   "metadata": {},
   "outputs": [],
   "source": []
  },
  {
   "cell_type": "code",
   "execution_count": 15,
   "id": "17252557",
   "metadata": {},
   "outputs": [],
   "source": [
    "# # ## filters\n",
    "\n",
    "# def genLetterFilter(  wdList, letter, score ,i ):\n",
    "#     if score == 2:\n",
    "#         filt = ( wdList.words.str[i] == letter )\n",
    "#     elif score == 1:\n",
    "#         filt =  ( wdList.words.str.contains( letter ) ) &  ( wdList.words.str[i] != letter ) \n",
    "#     else:\n",
    "#         filt = ( ~ wdList.words.str.contains( letter ) )\n",
    "    \n",
    "#     return filt \n",
    "        \n",
    "\n",
    "\n",
    "\n"
   ]
  },
  {
   "cell_type": "code",
   "execution_count": 16,
   "id": "6596c005",
   "metadata": {},
   "outputs": [],
   "source": [
    "def genScore( guess, answer ):\n",
    "    ## if that spot is the letter, score = 2 \n",
    "    ## if the letter is taken elsewhere, i.e has a score of 2, score = 0\n",
    "    ## if the letter is in the word,  score = 1\n",
    "    ## if the letter is not in the word, score = 0 \n",
    "\n",
    "    score = {}\n",
    "\n",
    "    reduced_answer = answer.copy()\n",
    "    \n",
    "    for i in range(5):\n",
    "\n",
    "        if guess[i] == answer[i]:\n",
    "            score[i] = \"2\"\n",
    "            reduced_answer = reduced_answer[:i] + reduced_answer[i+1:]\n",
    "            \n",
    "        elif guess[i] not in answer:\n",
    "            score[i] = \"0\"\n",
    "\n",
    "    for i in range(5):\n",
    "        if i not in score.keys():\n",
    "            if guess[i] in reduced_answer:\n",
    "                score[i] = \"1\"\n",
    "            else:\n",
    "                score[i] = \"0\"\n",
    "            \n",
    "            # else:\n",
    "            # score = score + \"0\"\n",
    "\n",
    "    \n",
    "    scoreDict = {}\n",
    "\n",
    "    for s, letter in zip(score, guess):\n",
    "        scoreDict[ letter ] = max( int(s), scoreDict.get(letter, 0) )\n",
    "    \n",
    "    newScore = score\n",
    "    for i in range(5):\n",
    "        if scoreDict[ guess[i] ] > int( score[i] ) :\n",
    "            newScore = newScore[:i] +\"0\" + newScore[i+1:]\n",
    "\n",
    "\n",
    "    return newScore"
   ]
  },
  {
   "cell_type": "code",
   "execution_count": 17,
   "id": "09380ff4",
   "metadata": {},
   "outputs": [
    {
     "data": {
      "text/plain": [
       "'00220'"
      ]
     },
     "execution_count": 17,
     "metadata": {},
     "output_type": "execute_result"
    }
   ],
   "source": [
    "genScore(\"alarm\",\"chart\")"
   ]
  },
  {
   "cell_type": "code",
   "execution_count": 18,
   "id": "73d64469",
   "metadata": {},
   "outputs": [
    {
     "data": {
      "text/plain": [
       "'12022'"
      ]
     },
     "execution_count": 18,
     "metadata": {},
     "output_type": "execute_result"
    }
   ],
   "source": [
    "genScore(\"gamma\",\"magma\")"
   ]
  },
  {
   "cell_type": "code",
   "execution_count": 19,
   "id": "8274ba39-14ba-4f2f-9fef-cb0878acb4d8",
   "metadata": {},
   "outputs": [
    {
     "data": {
      "text/plain": [
       "'10010'"
      ]
     },
     "execution_count": 19,
     "metadata": {},
     "output_type": "execute_result"
    }
   ],
   "source": [
    "genScore(\"array\",\"magma\")"
   ]
  },
  {
   "cell_type": "code",
   "execution_count": null,
   "id": "53085153-5110-4332-84de-1dcc8600e3e8",
   "metadata": {},
   "outputs": [],
   "source": []
  },
  {
   "cell_type": "code",
   "execution_count": null,
   "id": "c749233f-da06-491c-a7e1-ddc26c72a4f5",
   "metadata": {},
   "outputs": [],
   "source": []
  },
  {
   "cell_type": "code",
   "execution_count": 19,
   "id": "ef0f4763",
   "metadata": {},
   "outputs": [
    {
     "data": {
      "text/plain": [
       "'00120'"
      ]
     },
     "execution_count": 19,
     "metadata": {},
     "output_type": "execute_result"
    }
   ],
   "source": [
    "genScore(\"spill\",\"lilly\")"
   ]
  },
  {
   "cell_type": "code",
   "execution_count": 20,
   "id": "e72a6e0e",
   "metadata": {},
   "outputs": [],
   "source": [
    "## So here we've built our game and now need to build the solcver"
   ]
  },
  {
   "cell_type": "markdown",
   "id": "b50b9ca8",
   "metadata": {},
   "source": [
    "Ok, so I pregenerated all the word sets by conditoon, the condictions are \n",
    "1. words containing the letter\n",
    "2. words doesnt contain the letter \n",
    "3. words with ith positioning being the word \n",
    "4. words with ith position not being the word "
   ]
  },
  {
   "cell_type": "code",
   "execution_count": 21,
   "id": "c73ab74e",
   "metadata": {},
   "outputs": [],
   "source": [
    "# allletters = list( five_word_lists.groupby( five_word_lists.words.str[0] )['words'].count().index )"
   ]
  },
  {
   "cell_type": "code",
   "execution_count": 22,
   "id": "9342b219",
   "metadata": {},
   "outputs": [],
   "source": [
    "# allwordSet = set( five_word_lists.words )"
   ]
  },
  {
   "cell_type": "code",
   "execution_count": 23,
   "id": "eb686ca5",
   "metadata": {},
   "outputs": [],
   "source": [
    "# def word_to_dict( word ):\n",
    "#     return [ (word[i], i) for i in range(5) ]\n",
    "\n",
    "# letter_dict =  { l:{  i:set() for i in range(5)} for l in allletters }\n",
    "\n",
    "# for word in five_word_lists.words:\n",
    "#     for w, i in word_to_dict(word):\n",
    "#         letter_dict[ w ][ i ].add(word)\n",
    "        \n",
    "        \n",
    "# word_with_letter = { l:set() for l in allletters }\n",
    "\n",
    "# ## words contains the letter \n",
    "# for word in five_word_lists.words:\n",
    "#     for w, i in word_to_dict(word):\n",
    "#         word_with_letter[ w ].add(word)\n",
    "\n",
    "# ## words doesnt contains the letter \n",
    "# word_without_letter = { l:set() for l in allletters }        \n",
    "# for word in five_word_lists.words:\n",
    "#     for l in allletters:\n",
    "#         if l not in word:\n",
    "#             word_without_letter[ l ].add(word)\n"
   ]
  },
  {
   "cell_type": "code",
   "execution_count": null,
   "id": "7ad64951",
   "metadata": {},
   "outputs": [],
   "source": []
  },
  {
   "cell_type": "code",
   "execution_count": null,
   "id": "f7c01835",
   "metadata": {},
   "outputs": [],
   "source": []
  },
  {
   "cell_type": "code",
   "execution_count": 24,
   "id": "3ccb6784",
   "metadata": {},
   "outputs": [],
   "source": [
    "# ## words with ith positioning being the word \n",
    "# pos_dict = { i:{  l:set() for l in allletters } for i in range(5) }\n",
    "\n",
    "# for word in five_word_lists.words:\n",
    "#     for w, i in word_to_dict(word):\n",
    "#         pos_dict[ i ][ w ].add(word)\n"
   ]
  },
  {
   "cell_type": "code",
   "execution_count": 25,
   "id": "d65dd79f",
   "metadata": {},
   "outputs": [],
   "source": [
    "# ## word with letter L, but not at i-sth spot\n",
    "\n",
    "# word_with_letter_L_not_at_i = { l:{  i:set() for i in range(5)} for l in allletters }\n",
    "# for word in five_word_lists.words:\n",
    "#     for l in allletters:\n",
    "#         for i in range(5):\n",
    "#             if (l in word) and (word[i] != l):\n",
    "#                 word_with_letter_L_not_at_i[ l ][i].add(word)"
   ]
  },
  {
   "cell_type": "code",
   "execution_count": 26,
   "id": "1f0c106c",
   "metadata": {},
   "outputs": [],
   "source": [
    "\n",
    "# def genSet0( letter, pos ):\n",
    "    \n",
    "#     return word_with_letter[letter]\n",
    "\n",
    "# def genSet1( letter, pos ):\n",
    "    \n",
    "#     return word_with_letter_L_not_at_i[letter][int(pos)]\n",
    "\n",
    "\n",
    "# def genSet2( letter, pos ):\n",
    "#     return letter_dict[letter][pos]\n",
    "\n",
    "\n",
    "# def genScoreDict( guess, scores ):\n",
    "#     letterScoreDict = {}\n",
    "#     for letter, score in zip(guess, scores):\n",
    "#         letterScoreDict[letter] = max( int( letterScoreDict.get( letter,0 ) ), int(score) )\n",
    "\n",
    "#     return letterScoreDict\n",
    "\n",
    "# print( genScoreDict(\"apple\",\"01010\") ) \n",
    "\n",
    "\n",
    "\n",
    "# def genWordFilter( wdList, guess, scores  ):\n",
    "    \n",
    "#     filt = wdList.words.str.len() >0 \n",
    "#     scoreDict = genScoreDict( guess, scores )\n",
    "\n",
    "#     ## if the letter score is 0 then use 1 \n",
    "\n",
    "#     for i in range(5):\n",
    "\n",
    "#         if int(scores[i]) < scoreDict.get( guess[i] ):\n",
    "#             newScore = 1 \n",
    "#         else:\n",
    "#             newScore = int(scores[i])\n",
    "#         filt = filt & genLetterFilter(  wdList, guess[i], int(scores[i]), i  )   \n",
    "        \n",
    "#     return filt\n",
    "\n",
    "\n",
    "\n",
    "# def genWordSet( word, scores ):\n",
    "    \n",
    "#     scoreDict = genScoreDict( word, scores )\n",
    "\n",
    "#     toExclude = [set()]\n",
    "#     toIntersect = [ allwordSet ]\n",
    "    \n",
    "#     for i in range(5):\n",
    "\n",
    "\n",
    "#         if int(scores[i]) < scoreDict.get( word[i] ):\n",
    "#             newScore = 1 \n",
    "#         else:\n",
    "#             newScore = int(scores[i])\n",
    "\n",
    "#         if newScore == 0:\n",
    "#             toExclude.append( genSet0( word[i], i) )\n",
    "#         elif newScore == 1:\n",
    "#             toIntersect.append( genSet1( word[i],i ) )\n",
    "#         else:\n",
    "#             toIntersect.append(  genSet2( word[i], i ))\n",
    "            \n",
    "#     return set.intersection( *toIntersect ).difference( set.union( *toExclude ) )\n",
    "    \n"
   ]
  },
  {
   "cell_type": "code",
   "execution_count": 27,
   "id": "047a04be",
   "metadata": {},
   "outputs": [],
   "source": [
    "\n",
    "# ## test, should be a 2 long list \n",
    "# print( genWordSet(\"apple\", genScore( \"apple\",\"spill\" )) )"
   ]
  },
  {
   "cell_type": "code",
   "execution_count": 28,
   "id": "b90d4e64",
   "metadata": {},
   "outputs": [],
   "source": [
    "# print( genWordSet(\"alarm\", genScore( \"alarm\",\"chart\" )) )\n",
    "# genScore( \"alarm\",\"chart\" )"
   ]
  },
  {
   "cell_type": "code",
   "execution_count": null,
   "id": "69c9e1a2",
   "metadata": {},
   "outputs": [],
   "source": []
  },
  {
   "cell_type": "markdown",
   "id": "627be780",
   "metadata": {},
   "source": [
    "# Solver\n",
    "- guessScore = Dummy Word weight * remainChoiceLength( guess | Answer = Dummy Word)\n",
    "- return Word with higheest guessScore"
   ]
  },
  {
   "cell_type": "code",
   "execution_count": 29,
   "id": "fc56a57a",
   "metadata": {},
   "outputs": [],
   "source": [
    "def remainChoiceLen( word_list, guess, answer ):\n",
    "    scores = genScore( guess, answer )\n",
    "\n",
    "    return len( genWordSet( guess, scores ) )\n",
    "\n",
    "def avg_len_among_choices( guess,  choiceList ):\n",
    "    \n",
    "    ## this word list should be the remaining word list \n",
    "    ## but what I input it should be the total word list - as in maybe some choices of word can have better elimination \n",
    "    ## this word is the answer and I'll see what the remain length is if I make this guess\n",
    "   \n",
    "    \n",
    "    avg_len =  choiceList.words.apply( lambda x: remainChoiceLen( choiceList, guess, x ) ).mean() \n",
    "    \n",
    "    return avg_len"
   ]
  },
  {
   "cell_type": "code",
   "execution_count": null,
   "id": "3609dc13",
   "metadata": {},
   "outputs": [],
   "source": []
  },
  {
   "cell_type": "code",
   "execution_count": null,
   "id": "37d4b51e",
   "metadata": {},
   "outputs": [],
   "source": []
  },
  {
   "cell_type": "code",
   "execution_count": 30,
   "id": "b17b0794",
   "metadata": {},
   "outputs": [],
   "source": [
    "## 0, exclude \n",
    "## 2, intersect \n",
    "## \n",
    "test_word = \"apple\"\n",
    "test_score = \"02120\"\n",
    "\n"
   ]
  },
  {
   "cell_type": "code",
   "execution_count": 31,
   "id": "76244272",
   "metadata": {},
   "outputs": [
    {
     "name": "stdout",
     "output_type": "stream",
     "text": [
      "2\n",
      "0:00:00.009971\n"
     ]
    }
   ],
   "source": [
    "a = datetime.datetime.now()\n",
    "tempScore = genScore( \"apple\",\"spill\" )\n",
    "\n",
    "temp = five_word_lists.words.apply( lambda x: genScore('apple', x) )\n",
    "print( (temp == tempScore).sum() )\n",
    "print( datetime.datetime.now() - a )"
   ]
  },
  {
   "cell_type": "markdown",
   "id": "17ff24b3",
   "metadata": {},
   "source": [
    "# Genius"
   ]
  },
  {
   "cell_type": "code",
   "execution_count": null,
   "id": "ff9dca39",
   "metadata": {},
   "outputs": [],
   "source": []
  },
  {
   "cell_type": "markdown",
   "id": "b010d574",
   "metadata": {},
   "source": [
    "A score , and a guess will generate n pssoble choices\n",
    "\n",
    "For each score i, \n",
    "For each answer with same score, it will result in the same number of possible choices i.e. n_i\n",
    "And there are n_i answers with the same score\n",
    "\n",
    "Sum each answer's next possible choices = sum over i of n_i^2 "
   ]
  },
  {
   "cell_type": "code",
   "execution_count": 32,
   "id": "461fd872",
   "metadata": {},
   "outputs": [],
   "source": [
    "## what does this mean.... it's actually brilliant\n",
    "## for a guess, there's only going to be single 22222. the larger the difference, the more the possible answers there will be \n",
    "## hence, we try to minimize the number of words associated with a score \n",
    "# \n",
    " \n",
    "def genGuessImpact( guess, wdList ):\n",
    "#     wdList = wdList.copy()\n",
    "#     wdList['score'] = \n",
    "    score_count = wdList.groupby( wdList.words.apply( lambda x: genScore(guess, x) ) )['words'].count()\n",
    "    # print( score_count)\n",
    "\n",
    "    nextLen = ( (score_count) * ( score_count)  ).sum() / len(wdList) \n",
    "    return nextLen"
   ]
  },
  {
   "cell_type": "code",
   "execution_count": 33,
   "id": "af254c3a",
   "metadata": {},
   "outputs": [
    {
     "data": {
      "text/plain": [
       "124.87137511693172"
      ]
     },
     "execution_count": 33,
     "metadata": {},
     "output_type": "execute_result"
    }
   ],
   "source": [
    "genGuessImpact(\"arise\",five_word_lists)"
   ]
  },
  {
   "cell_type": "code",
   "execution_count": 34,
   "id": "6cd6e007",
   "metadata": {},
   "outputs": [],
   "source": [
    "# avg_len_among_choices('arise',five_word_lists)"
   ]
  },
  {
   "cell_type": "code",
   "execution_count": 35,
   "id": "047d95dc",
   "metadata": {},
   "outputs": [],
   "source": [
    "five_word_list_stat = five_word_lists.copy()"
   ]
  },
  {
   "cell_type": "code",
   "execution_count": 36,
   "id": "597fda8f",
   "metadata": {
    "scrolled": true
   },
   "outputs": [],
   "source": [
    "guessImpact  = five_word_lists.words.apply( lambda x: genGuessImpact( x, five_word_lists ) )"
   ]
  },
  {
   "cell_type": "code",
   "execution_count": 37,
   "id": "0205e77d",
   "metadata": {},
   "outputs": [],
   "source": [
    "five_word_list_stat['guessImpact'] = guessImpact"
   ]
  },
  {
   "cell_type": "code",
   "execution_count": 38,
   "id": "2891280c",
   "metadata": {},
   "outputs": [],
   "source": [
    "# temp2  = five_word_lists.words.swifter.apply( lambda x: avg_len_among_choices( x, five_word_lists ) )\n",
    "# five_word_list_stat['stats2'] = temp2"
   ]
  },
  {
   "cell_type": "code",
   "execution_count": 39,
   "id": "1a66854a",
   "metadata": {},
   "outputs": [],
   "source": [
    "# five_word_list_stat.to_csv(\"stat_big_list_method.csv\",index=False)"
   ]
  },
  {
   "cell_type": "code",
   "execution_count": 40,
   "id": "bcbc736f",
   "metadata": {},
   "outputs": [],
   "source": [
    "def nextChoices( wordList, guess, scores ):\n",
    "    scoreOfGuessGivenAnswer = wordList.words.apply( lambda x: genScore( guess, x ) ) \n",
    "\n",
    "    return wordList[ scoreOfGuessGivenAnswer == scores ]"
   ]
  },
  {
   "cell_type": "code",
   "execution_count": null,
   "id": "60990aa3-903a-4147-b61e-64994fc9368e",
   "metadata": {},
   "outputs": [],
   "source": []
  },
  {
   "cell_type": "code",
   "execution_count": 41,
   "id": "d31d69cb",
   "metadata": {},
   "outputs": [],
   "source": [
    "## replacing using above function \n",
    "\n",
    "\n",
    "# def nextWordList( wordList, guess, scores ):\n",
    "#     return wordList[ genWordFilter( wordList, guess, scores ) ]"
   ]
  },
  {
   "cell_type": "code",
   "execution_count": 42,
   "id": "183a4588",
   "metadata": {},
   "outputs": [
    {
     "data": {
      "text/html": [
       "<div>\n",
       "<style scoped>\n",
       "    .dataframe tbody tr th:only-of-type {\n",
       "        vertical-align: middle;\n",
       "    }\n",
       "\n",
       "    .dataframe tbody tr th {\n",
       "        vertical-align: top;\n",
       "    }\n",
       "\n",
       "    .dataframe thead th {\n",
       "        text-align: right;\n",
       "    }\n",
       "</style>\n",
       "<table border=\"1\" class=\"dataframe\">\n",
       "  <thead>\n",
       "    <tr style=\"text-align: right;\">\n",
       "      <th></th>\n",
       "      <th>words</th>\n",
       "      <th>guessImpact</th>\n",
       "    </tr>\n",
       "  </thead>\n",
       "  <tbody>\n",
       "    <tr>\n",
       "      <th>3023</th>\n",
       "      <td>raise</td>\n",
       "      <td>112.993452</td>\n",
       "    </tr>\n",
       "    <tr>\n",
       "      <th>3872</th>\n",
       "      <td>tarse</td>\n",
       "      <td>122.178672</td>\n",
       "    </tr>\n",
       "    <tr>\n",
       "      <th>197</th>\n",
       "      <td>arise</td>\n",
       "      <td>124.871375</td>\n",
       "    </tr>\n",
       "    <tr>\n",
       "      <th>202</th>\n",
       "      <td>arose</td>\n",
       "      <td>126.309635</td>\n",
       "    </tr>\n",
       "    <tr>\n",
       "      <th>195</th>\n",
       "      <td>ariel</td>\n",
       "      <td>127.212348</td>\n",
       "    </tr>\n",
       "    <tr>\n",
       "      <th>2492</th>\n",
       "      <td>nares</td>\n",
       "      <td>127.463050</td>\n",
       "    </tr>\n",
       "    <tr>\n",
       "      <th>3327</th>\n",
       "      <td>serai</td>\n",
       "      <td>128.100094</td>\n",
       "    </tr>\n",
       "    <tr>\n",
       "      <th>2630</th>\n",
       "      <td>orate</td>\n",
       "      <td>128.813845</td>\n",
       "    </tr>\n",
       "    <tr>\n",
       "      <th>1940</th>\n",
       "      <td>irate</td>\n",
       "      <td>129.546773</td>\n",
       "    </tr>\n",
       "    <tr>\n",
       "      <th>3043</th>\n",
       "      <td>ratel</td>\n",
       "      <td>131.370907</td>\n",
       "    </tr>\n",
       "  </tbody>\n",
       "</table>\n",
       "</div>"
      ],
      "text/plain": [
       "      words  guessImpact\n",
       "3023  raise   112.993452\n",
       "3872  tarse   122.178672\n",
       "197   arise   124.871375\n",
       "202   arose   126.309635\n",
       "195   ariel   127.212348\n",
       "2492  nares   127.463050\n",
       "3327  serai   128.100094\n",
       "2630  orate   128.813845\n",
       "1940  irate   129.546773\n",
       "3043  ratel   131.370907"
      ]
     },
     "execution_count": 42,
     "metadata": {},
     "output_type": "execute_result"
    }
   ],
   "source": [
    "five_word_list_stat.sort_values(by='guessImpact').head(10)"
   ]
  },
  {
   "cell_type": "code",
   "execution_count": null,
   "id": "bd3f93c3",
   "metadata": {},
   "outputs": [],
   "source": []
  },
  {
   "cell_type": "code",
   "execution_count": 43,
   "id": "d2c7f9b3",
   "metadata": {},
   "outputs": [],
   "source": [
    "## choice of words \n",
    "\n",
    "def genBestGuess( wordList ):\n",
    "    \n",
    "    eachGuessImpact = wordList.words.apply( lambda x: genGuessImpact( x, wordList ) )\n",
    "    \n",
    "    bestGuess = wordList.loc[ eachGuessImpact == eachGuessImpact.min() ,'words' ].values[0]\n",
    "    \n",
    "    return bestGuess"
   ]
  },
  {
   "cell_type": "code",
   "execution_count": 44,
   "id": "4e2d527c",
   "metadata": {},
   "outputs": [],
   "source": [
    "# genBestGuess( five_word_lists )\n"
   ]
  },
  {
   "cell_type": "code",
   "execution_count": 45,
   "id": "288d5496",
   "metadata": {},
   "outputs": [],
   "source": [
    "def bestSolver( choiceSpace, answerSpace ):\n",
    "    \n",
    "    eachGuessImpact = choiceSpace.words.apply( lambda x: genGuessImpact( x, answerSpace ) )\n",
    "    \n",
    "    bestGuess = choiceSpace.loc[ eachGuessImpact == eachGuessImpact.min() ,'words' ].values[0]\n",
    "    return bestGuess"
   ]
  },
  {
   "cell_type": "code",
   "execution_count": 46,
   "id": "e95eceb5",
   "metadata": {},
   "outputs": [],
   "source": [
    "\n",
    "def sortByGuessImpacts( choiceSpace, answerSpace ):\n",
    "\n",
    "    tempWordList = choiceSpace.copy() \n",
    "    eachGuessImpact = choiceSpace.words.apply( lambda x: genGuessImpact( x, answerSpace ) )\n",
    "    tempWordList[ 'guessImpact'] = eachGuessImpact\n",
    "\n",
    "    tempWordList = tempWordList.sort_values( by=['guessImpact'], ascending=True)[['words','guessImpact']]\n",
    "\n",
    "    return tempWordList\n",
    "\n",
    "def topNGuess( choiceSpace, answerSpace, n = 5 ):\n",
    "\n",
    "    topFiveGuess = sortByGuessImpacts( choiceSpace, answerSpace ).head( n )\n",
    "    return topFiveGuess"
   ]
  },
  {
   "cell_type": "code",
   "execution_count": 47,
   "id": "487a3186",
   "metadata": {},
   "outputs": [],
   "source": [
    "# bestSolver( five_word_lists,five_word_lists )\n"
   ]
  },
  {
   "cell_type": "code",
   "execution_count": 48,
   "id": "e73bee6b",
   "metadata": {},
   "outputs": [],
   "source": [
    "# sortedGuess = sortByGuessImpacts( five_word_lists,five_word_lists  )\n"
   ]
  },
  {
   "cell_type": "code",
   "execution_count": 49,
   "id": "3220f4ba",
   "metadata": {},
   "outputs": [],
   "source": [
    "# sortedGuess.head(5)"
   ]
  },
  {
   "cell_type": "code",
   "execution_count": 50,
   "id": "3908d34d",
   "metadata": {},
   "outputs": [
    {
     "data": {
      "text/plain": [
       "'skeet'"
      ]
     },
     "execution_count": 50,
     "metadata": {},
     "output_type": "execute_result"
    }
   ],
   "source": [
    "\n",
    "guess='sheet'\n",
    "score = '20222'\n",
    "tempWD = five_word_lists.copy()\n",
    "\n",
    "tempWD = nextChoices( tempWD, guess, score )\n",
    "guess = genBestGuess( tempWD )\n",
    "guess"
   ]
  },
  {
   "cell_type": "code",
   "execution_count": null,
   "id": "02db9cc2",
   "metadata": {},
   "outputs": [],
   "source": []
  },
  {
   "cell_type": "code",
   "execution_count": null,
   "id": "fae0b53b",
   "metadata": {},
   "outputs": [],
   "source": []
  },
  {
   "cell_type": "markdown",
   "id": "6283b2de",
   "metadata": {},
   "source": [
    "# Test Game"
   ]
  },
  {
   "cell_type": "code",
   "execution_count": null,
   "id": "a373748d-8909-43ab-b8cc-18f3d711a7f9",
   "metadata": {},
   "outputs": [],
   "source": []
  },
  {
   "cell_type": "code",
   "execution_count": 92,
   "id": "a0fadde1-7690-43d7-b62c-ba193ba997d4",
   "metadata": {},
   "outputs": [],
   "source": [
    "trial_one = \"raise\"\n",
    "score_one = \"11000\""
   ]
  },
  {
   "cell_type": "code",
   "execution_count": 93,
   "id": "9af36ac2",
   "metadata": {},
   "outputs": [
    {
     "data": {
      "text/plain": [
       "'acorn'"
      ]
     },
     "execution_count": 93,
     "metadata": {},
     "output_type": "execute_result"
    }
   ],
   "source": [
    "choices_after_one = nextChoices( five_word_lists, trial_one, score_one )\n",
    "best_guess_one = genBestGuess( choices_after_one )\n",
    "best_guess_one"
   ]
  },
  {
   "cell_type": "code",
   "execution_count": 94,
   "id": "f72e4d6d",
   "metadata": {},
   "outputs": [
    {
     "data": {
      "text/html": [
       "<div>\n",
       "<style scoped>\n",
       "    .dataframe tbody tr th:only-of-type {\n",
       "        vertical-align: middle;\n",
       "    }\n",
       "\n",
       "    .dataframe tbody tr th {\n",
       "        vertical-align: top;\n",
       "    }\n",
       "\n",
       "    .dataframe thead th {\n",
       "        text-align: right;\n",
       "    }\n",
       "</style>\n",
       "<table border=\"1\" class=\"dataframe\">\n",
       "  <thead>\n",
       "    <tr style=\"text-align: right;\">\n",
       "      <th></th>\n",
       "      <th>words</th>\n",
       "      <th>guessImpact</th>\n",
       "    </tr>\n",
       "  </thead>\n",
       "  <tbody>\n",
       "    <tr>\n",
       "      <th>27</th>\n",
       "      <td>acorn</td>\n",
       "      <td>11.000000</td>\n",
       "    </tr>\n",
       "    <tr>\n",
       "      <th>4061</th>\n",
       "      <td>trona</td>\n",
       "      <td>11.324324</td>\n",
       "    </tr>\n",
       "    <tr>\n",
       "      <th>1674</th>\n",
       "      <td>groat</td>\n",
       "      <td>11.351351</td>\n",
       "    </tr>\n",
       "    <tr>\n",
       "      <th>516</th>\n",
       "      <td>brant</td>\n",
       "      <td>11.581081</td>\n",
       "    </tr>\n",
       "    <tr>\n",
       "      <th>910</th>\n",
       "      <td>croak</td>\n",
       "      <td>11.797297</td>\n",
       "    </tr>\n",
       "  </tbody>\n",
       "</table>\n",
       "</div>"
      ],
      "text/plain": [
       "      words  guessImpact\n",
       "27    acorn    11.000000\n",
       "4061  trona    11.324324\n",
       "1674  groat    11.351351\n",
       "516   brant    11.581081\n",
       "910   croak    11.797297"
      ]
     },
     "execution_count": 94,
     "metadata": {},
     "output_type": "execute_result"
    }
   ],
   "source": [
    "topNGuess( choices_after_one, choices_after_one )"
   ]
  },
  {
   "cell_type": "code",
   "execution_count": 95,
   "id": "e65af292",
   "metadata": {},
   "outputs": [],
   "source": [
    "# topNGuess( five_word_lists, choices_after_one )"
   ]
  },
  {
   "cell_type": "code",
   "execution_count": 96,
   "id": "65c7873e",
   "metadata": {},
   "outputs": [],
   "source": [
    "trial_two = best_guess_one\n",
    "score_two = \"10010\""
   ]
  },
  {
   "cell_type": "code",
   "execution_count": 97,
   "id": "3c9826d2-e4f7-456f-b128-da1541aaa156",
   "metadata": {},
   "outputs": [
    {
     "data": {
      "text/plain": [
       "'acorn'"
      ]
     },
     "execution_count": 97,
     "metadata": {},
     "output_type": "execute_result"
    }
   ],
   "source": [
    "best_guess_one"
   ]
  },
  {
   "cell_type": "code",
   "execution_count": 99,
   "id": "c687f5a5",
   "metadata": {},
   "outputs": [
    {
     "name": "stdout",
     "output_type": "stream",
     "text": [
      "acorn\n"
     ]
    },
    {
     "data": {
      "text/plain": [
       "'graft'"
      ]
     },
     "execution_count": 99,
     "metadata": {},
     "output_type": "execute_result"
    }
   ],
   "source": [
    "choices_after_two = nextChoices( choices_after_one, trial_two, score_two )\n",
    "best_guess_two = genBestGuess( choices_after_two )\n",
    "print( trial_two )\n",
    "best_guess_two"
   ]
  },
  {
   "cell_type": "code",
   "execution_count": null,
   "id": "712dc7be-13b6-4c7f-8950-16758cd50d72",
   "metadata": {},
   "outputs": [],
   "source": []
  },
  {
   "cell_type": "code",
   "execution_count": 100,
   "id": "4a29b209",
   "metadata": {},
   "outputs": [
    {
     "data": {
      "text/html": [
       "<div>\n",
       "<style scoped>\n",
       "    .dataframe tbody tr th:only-of-type {\n",
       "        vertical-align: middle;\n",
       "    }\n",
       "\n",
       "    .dataframe tbody tr th {\n",
       "        vertical-align: top;\n",
       "    }\n",
       "\n",
       "    .dataframe thead th {\n",
       "        text-align: right;\n",
       "    }\n",
       "</style>\n",
       "<table border=\"1\" class=\"dataframe\">\n",
       "  <thead>\n",
       "    <tr style=\"text-align: right;\">\n",
       "      <th></th>\n",
       "      <th>words</th>\n",
       "      <th>guessImpact</th>\n",
       "    </tr>\n",
       "  </thead>\n",
       "  <tbody>\n",
       "    <tr>\n",
       "      <th>1639</th>\n",
       "      <td>graft</td>\n",
       "      <td>3.230769</td>\n",
       "    </tr>\n",
       "    <tr>\n",
       "      <th>2460</th>\n",
       "      <td>mural</td>\n",
       "      <td>3.692308</td>\n",
       "    </tr>\n",
       "    <tr>\n",
       "      <th>1721</th>\n",
       "      <td>gyral</td>\n",
       "      <td>3.692308</td>\n",
       "    </tr>\n",
       "    <tr>\n",
       "      <th>1702</th>\n",
       "      <td>gular</td>\n",
       "      <td>3.692308</td>\n",
       "    </tr>\n",
       "    <tr>\n",
       "      <th>2008</th>\n",
       "      <td>jurat</td>\n",
       "      <td>3.923077</td>\n",
       "    </tr>\n",
       "  </tbody>\n",
       "</table>\n",
       "</div>"
      ],
      "text/plain": [
       "      words  guessImpact\n",
       "1639  graft     3.230769\n",
       "2460  mural     3.692308\n",
       "1721  gyral     3.692308\n",
       "1702  gular     3.692308\n",
       "2008  jurat     3.923077"
      ]
     },
     "execution_count": 100,
     "metadata": {},
     "output_type": "execute_result"
    }
   ],
   "source": [
    "topNGuess( choices_after_two, choices_after_two )"
   ]
  },
  {
   "cell_type": "code",
   "execution_count": 101,
   "id": "a28fb221",
   "metadata": {},
   "outputs": [],
   "source": [
    "trial_three = best_guess_two\n",
    "score_three = \"02201\""
   ]
  },
  {
   "cell_type": "code",
   "execution_count": 102,
   "id": "b34ac1c0",
   "metadata": {},
   "outputs": [
    {
     "data": {
      "text/plain": [
       "'tramp'"
      ]
     },
     "execution_count": 102,
     "metadata": {},
     "output_type": "execute_result"
    }
   ],
   "source": [
    "choices_after_thre = nextChoices( choices_after_two, trial_three, score_three )\n",
    "best_guess_three = genBestGuess( choices_after_thre )\n",
    "best_guess_three"
   ]
  },
  {
   "cell_type": "code",
   "execution_count": 105,
   "id": "a6eeba62",
   "metadata": {},
   "outputs": [],
   "source": [
    "trial_four = best_guess_three# best_guess_two\n",
    "score_four = \"12200\""
   ]
  },
  {
   "cell_type": "code",
   "execution_count": 106,
   "id": "afa2b785",
   "metadata": {},
   "outputs": [
    {
     "data": {
      "text/plain": [
       "'wrath'"
      ]
     },
     "execution_count": 106,
     "metadata": {},
     "output_type": "execute_result"
    }
   ],
   "source": [
    "choices_after_four = nextChoices( choices_after_thre, trial_four, score_four )\n",
    "best_guess_four = genBestGuess( choices_after_four )\n",
    "best_guess_four"
   ]
  },
  {
   "cell_type": "code",
   "execution_count": null,
   "id": "f639857c",
   "metadata": {},
   "outputs": [],
   "source": []
  }
 ],
 "metadata": {
  "kernelspec": {
   "display_name": "Python 3 (ipykernel)",
   "language": "python",
   "name": "python3"
  },
  "language_info": {
   "codemirror_mode": {
    "name": "ipython",
    "version": 3
   },
   "file_extension": ".py",
   "mimetype": "text/x-python",
   "name": "python",
   "nbconvert_exporter": "python",
   "pygments_lexer": "ipython3",
   "version": "3.10.12"
  }
 },
 "nbformat": 4,
 "nbformat_minor": 5
}
