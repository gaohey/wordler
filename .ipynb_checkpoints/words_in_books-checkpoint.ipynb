{
 "cells": [
  {
   "cell_type": "code",
   "execution_count": 1,
   "id": "a8764444",
   "metadata": {},
   "outputs": [],
   "source": [
    "import nltk\n",
    "import pandas as pd\n",
    "from nltk.corpus import gutenberg"
   ]
  },
  {
   "cell_type": "code",
   "execution_count": 2,
   "id": "4cfc22ab",
   "metadata": {},
   "outputs": [
    {
     "name": "stdout",
     "output_type": "stream",
     "text": [
      "['austen-emma.txt', 'austen-persuasion.txt', 'austen-sense.txt', 'bible-kjv.txt', 'blake-poems.txt', 'bryant-stories.txt', 'burgess-busterbrown.txt', 'carroll-alice.txt', 'chesterton-ball.txt', 'chesterton-brown.txt', 'chesterton-thursday.txt', 'edgeworth-parents.txt', 'melville-moby_dick.txt', 'milton-paradise.txt', 'shakespeare-caesar.txt', 'shakespeare-hamlet.txt', 'shakespeare-macbeth.txt', 'whitman-leaves.txt']\n"
     ]
    }
   ],
   "source": [
    "print (gutenberg.fileids())"
   ]
  },
  {
   "cell_type": "code",
   "execution_count": 3,
   "id": "085365c3",
   "metadata": {},
   "outputs": [
    {
     "data": {
      "text/plain": [
       "['[', 'Emma', 'by', 'Jane', 'Austen', '1816', ']', ...]"
      ]
     },
     "execution_count": 3,
     "metadata": {},
     "output_type": "execute_result"
    }
   ],
   "source": [
    "gutenberg.words(\"austen-emma.txt\")"
   ]
  },
  {
   "cell_type": "code",
   "execution_count": 4,
   "id": "145e4a84",
   "metadata": {},
   "outputs": [],
   "source": [
    "allwords_in_books = []\n",
    "\n",
    "for book in gutenberg.fileids():\n",
    "    allwords_in_books = allwords_in_books+ list( gutenberg.words( book ))"
   ]
  },
  {
   "cell_type": "code",
   "execution_count": 5,
   "id": "cf1886ad",
   "metadata": {},
   "outputs": [
    {
     "data": {
      "text/plain": [
       "7"
      ]
     },
     "execution_count": 5,
     "metadata": {},
     "output_type": "execute_result"
    }
   ],
   "source": [
    "import gc\n",
    "gc.collect()"
   ]
  },
  {
   "cell_type": "code",
   "execution_count": 6,
   "id": "df369d9a",
   "metadata": {},
   "outputs": [],
   "source": [
    "five_letter_words = [ word.lower() for word in allwords_in_books if len(word) == 5 ]"
   ]
  },
  {
   "cell_type": "code",
   "execution_count": 7,
   "id": "ecf06e08",
   "metadata": {},
   "outputs": [],
   "source": [
    "five_letter_words = list( set( five_letter_words )) "
   ]
  },
  {
   "cell_type": "code",
   "execution_count": 8,
   "id": "91b7ec10",
   "metadata": {},
   "outputs": [],
   "source": [
    "five_letter_words = [ word for word in five_letter_words if word.isalpha() ]"
   ]
  },
  {
   "cell_type": "code",
   "execution_count": 9,
   "id": "447adf9e",
   "metadata": {},
   "outputs": [
    {
     "data": {
      "text/plain": [
       "4684"
      ]
     },
     "execution_count": 9,
     "metadata": {},
     "output_type": "execute_result"
    }
   ],
   "source": [
    "len(five_letter_words)"
   ]
  },
  {
   "cell_type": "code",
   "execution_count": 35,
   "id": "77a701db",
   "metadata": {},
   "outputs": [],
   "source": []
  },
  {
   "cell_type": "code",
   "execution_count": 38,
   "id": "0f046db9",
   "metadata": {},
   "outputs": [],
   "source": [
    "df = pd.DataFrame( five_letter_words )\n",
    "df.columns=['words']\n",
    "df.to_csv('five_letter_words_from_books.csv',index=False )"
   ]
  },
  {
   "cell_type": "code",
   "execution_count": null,
   "id": "6feb6d42",
   "metadata": {},
   "outputs": [],
   "source": []
  },
  {
   "cell_type": "code",
   "execution_count": 11,
   "id": "9662d143",
   "metadata": {},
   "outputs": [],
   "source": [
    "## alll the words \n",
    "\n",
    "\n",
    "from nltk.corpus import words\n",
    "\n",
    "allwords = words.words()"
   ]
  },
  {
   "cell_type": "code",
   "execution_count": 14,
   "id": "7173e9aa",
   "metadata": {},
   "outputs": [],
   "source": [
    "all_five_letter_words = set( [ w.lower() for w in allwords if len(w)==5 ] ) "
   ]
  },
  {
   "cell_type": "code",
   "execution_count": 15,
   "id": "5997507f",
   "metadata": {},
   "outputs": [
    {
     "data": {
      "text/plain": [
       "9972"
      ]
     },
     "execution_count": 15,
     "metadata": {},
     "output_type": "execute_result"
    }
   ],
   "source": [
    "len(all_five_letter_words)"
   ]
  },
  {
   "cell_type": "code",
   "execution_count": 16,
   "id": "5b67b5fb",
   "metadata": {},
   "outputs": [],
   "source": [
    "df = pd.DataFrame( all_five_letter_words )\n",
    "df.columns=['words']\n",
    "df.to_csv('all_five_letter_words.csv',index=False )"
   ]
  },
  {
   "cell_type": "code",
   "execution_count": null,
   "id": "949147f2",
   "metadata": {},
   "outputs": [],
   "source": []
  }
 ],
 "metadata": {
  "kernelspec": {
   "display_name": "Python 3 (ipykernel)",
   "language": "python",
   "name": "python3"
  },
  "language_info": {
   "codemirror_mode": {
    "name": "ipython",
    "version": 3
   },
   "file_extension": ".py",
   "mimetype": "text/x-python",
   "name": "python",
   "nbconvert_exporter": "python",
   "pygments_lexer": "ipython3",
   "version": "3.9.7"
  }
 },
 "nbformat": 4,
 "nbformat_minor": 5
}
