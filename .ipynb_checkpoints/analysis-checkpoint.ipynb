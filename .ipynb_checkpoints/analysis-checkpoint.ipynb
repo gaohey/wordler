{
 "cells": [
  {
   "cell_type": "code",
   "execution_count": 13,
   "id": "9b1724fe-8893-450f-b1b0-da0b10e2cb01",
   "metadata": {},
   "outputs": [],
   "source": [
    "from wordle import Wordle, bestSolver"
   ]
  },
  {
   "cell_type": "code",
   "execution_count": 2,
   "id": "75dde1c7-20b2-4c53-9947-9a58643e6fcb",
   "metadata": {},
   "outputs": [],
   "source": [
    "import wordle"
   ]
  },
  {
   "cell_type": "code",
   "execution_count": 3,
   "id": "fc5635bd-0a96-433c-8dd8-8dca8b3306f9",
   "metadata": {},
   "outputs": [],
   "source": [
    "import pandas as pd\n"
   ]
  },
  {
   "cell_type": "code",
   "execution_count": 4,
   "id": "df06d76e-bfc7-4ad2-9fe9-af6394e4ccbe",
   "metadata": {},
   "outputs": [],
   "source": [
    "import matplotlib"
   ]
  },
  {
   "cell_type": "code",
   "execution_count": 5,
   "id": "4f1e1279-a8c9-4c5e-b8cf-2814b52f0fe6",
   "metadata": {},
   "outputs": [],
   "source": [
    "testSession = Wordle()\n"
   ]
  },
  {
   "cell_type": "code",
   "execution_count": 6,
   "id": "62620e74-4f16-4008-ab70-de702ba1b5c1",
   "metadata": {},
   "outputs": [],
   "source": [
    "allwordspace = testSession.allWords.copy()"
   ]
  },
  {
   "cell_type": "code",
   "execution_count": null,
   "id": "a978431c-1fec-49bc-9919-bacc6e0209d1",
   "metadata": {},
   "outputs": [],
   "source": []
  },
  {
   "cell_type": "code",
   "execution_count": 7,
   "id": "53095d8d-2a18-4dbf-beca-754f2b0a3919",
   "metadata": {},
   "outputs": [
    {
     "data": {
      "text/plain": [
       "(4277, 1)"
      ]
     },
     "execution_count": 7,
     "metadata": {},
     "output_type": "execute_result"
    }
   ],
   "source": [
    "allwordspace.shape"
   ]
  },
  {
   "cell_type": "code",
   "execution_count": 8,
   "id": "1d3b696e-cbfc-4808-af73-71cdb98ffbbd",
   "metadata": {},
   "outputs": [
    {
     "data": {
      "text/plain": [
       "(4277, 1)"
      ]
     },
     "execution_count": 8,
     "metadata": {},
     "output_type": "execute_result"
    }
   ],
   "source": [
    "allwordspace.drop_duplicates().shape"
   ]
  },
  {
   "cell_type": "code",
   "execution_count": 9,
   "id": "ad21123a-a137-4ac5-96e2-620888bbaf68",
   "metadata": {},
   "outputs": [
    {
     "name": "stderr",
     "output_type": "stream",
     "text": [
      "/home/yian/.local/lib/python3.10/site-packages/tqdm/auto.py:21: TqdmWarning: IProgress not found. Please update jupyter and ipywidgets. See https://ipywidgets.readthedocs.io/en/stable/user_install.html\n",
      "  from .autonotebook import tqdm as notebook_tqdm\n"
     ]
    }
   ],
   "source": [
    "import swifter"
   ]
  },
  {
   "cell_type": "code",
   "execution_count": 10,
   "id": "469c6464-0605-4f26-8bb6-69e7f388ee27",
   "metadata": {},
   "outputs": [],
   "source": [
    "\n",
    "def testSolvingRounds( answer, initial_guess='raise', trials=6): \n",
    "    wordleSession= Wordle()\n",
    "    \n",
    "    wordleSession.answer = answer\n",
    "    \n",
    "    guess = initial_guess\n",
    "    score = \"\"\n",
    "    \n",
    "    for i in range(trials):\n",
    "\n",
    "        print(guess)\n",
    "        wordleSession.getGuess( guess )\n",
    "        score = wordleSession.getScore( guess ) \n",
    "            \n",
    "        if score == \"22222\":\n",
    "            return i+1\n",
    "    \n",
    "        choice = wordleSession.updateChoices(guess, score ) \n",
    "        if len(choice) == 0:\n",
    "            return -99999\n",
    "    \n",
    "        guess = wordleSession.genHintOptimal()\n",
    "\n",
    "        \n",
    "    # print( wordleSession.choiceSpace) \n",
    "    return -1\n",
    "    \n",
    "\n",
    "\n",
    "\n"
   ]
  },
  {
   "cell_type": "code",
   "execution_count": 11,
   "id": "5f3c03ef-df59-4a7f-b44b-e3c8395c2337",
   "metadata": {},
   "outputs": [
    {
     "data": {
      "text/plain": [
       "-1"
      ]
     },
     "execution_count": 11,
     "metadata": {},
     "output_type": "execute_result"
    }
   ],
   "source": [
    "testSolvingRounds( \"lolly\")"
   ]
  },
  {
   "cell_type": "code",
   "execution_count": 14,
   "id": "0602c645-b938-4db6-8d78-85a46ac04560",
   "metadata": {},
   "outputs": [
    {
     "data": {
      "text/plain": [
       "'raise'"
      ]
     },
     "execution_count": 14,
     "metadata": {},
     "output_type": "execute_result"
    }
   ],
   "source": [
    "bestSolver( allwordspace, allwordspace)"
   ]
  },
  {
   "cell_type": "code",
   "execution_count": 15,
   "id": "2c4c5fad-464a-4c1a-83bf-9158d647a4a7",
   "metadata": {},
   "outputs": [
    {
     "name": "stderr",
     "output_type": "stream",
     "text": [
      "Pandas Apply: 100%|█████████████████████████| 4277/4277 [57:24<00:00,  1.24it/s]\n"
     ]
    }
   ],
   "source": [
    "allwordspace['stepsNeeded'] = allwordspace.words.swifter.apply( lambda x: testSolvingRounds( x )) "
   ]
  },
  {
   "cell_type": "code",
   "execution_count": 16,
   "id": "a6efe3fc-108d-40d7-950d-46a37f3cd4d5",
   "metadata": {},
   "outputs": [
    {
     "data": {
      "text/plain": [
       "13"
      ]
     },
     "execution_count": 16,
     "metadata": {},
     "output_type": "execute_result"
    }
   ],
   "source": [
    "(allwordspace['stepsNeeded']== allwordspace['stepsNeeded'].min()).sum()"
   ]
  },
  {
   "cell_type": "code",
   "execution_count": 17,
   "id": "a6910f5b-e112-48be-a031-1cb3cbd81a18",
   "metadata": {},
   "outputs": [
    {
     "data": {
      "text/plain": [
       "<Axes: >"
      ]
     },
     "execution_count": 17,
     "metadata": {},
     "output_type": "execute_result"
    },
    {
     "data": {
      "image/png": "[encoded data removed]",
      "text/plain": [
       "<Figure size 640x480 with 1 Axes>"
      ]
     },
     "metadata": {},
     "output_type": "display_data"
    }
   ],
   "source": [
    "allwordspace['stepsNeeded'].hist()"
   ]
  },
  {
   "cell_type": "code",
   "execution_count": 20,
   "id": "d949b77a-f4bf-44d9-b249-2558660b1ecd",
   "metadata": {},
   "outputs": [
    {
     "data": {
      "text/html": [
       "<div>\n",
       "<style scoped>\n",
       "    .dataframe tbody tr th:only-of-type {\n",
       "        vertical-align: middle;\n",
       "    }\n",
       "\n",
       "    .dataframe tbody tr th {\n",
       "        vertical-align: top;\n",
       "    }\n",
       "\n",
       "    .dataframe thead th {\n",
       "        text-align: right;\n",
       "    }\n",
       "</style>\n",
       "<table border=\"1\" class=\"dataframe\">\n",
       "  <thead>\n",
       "    <tr style=\"text-align: right;\">\n",
       "      <th></th>\n",
       "      <th>words</th>\n",
       "      <th>stepsNeeded</th>\n",
       "    </tr>\n",
       "  </thead>\n",
       "  <tbody>\n",
       "    <tr>\n",
       "      <th>484</th>\n",
       "      <td>borer</td>\n",
       "      <td>-1</td>\n",
       "    </tr>\n",
       "    <tr>\n",
       "      <th>504</th>\n",
       "      <td>boxer</td>\n",
       "      <td>-1</td>\n",
       "    </tr>\n",
       "    <tr>\n",
       "      <th>844</th>\n",
       "      <td>coper</td>\n",
       "      <td>-1</td>\n",
       "    </tr>\n",
       "    <tr>\n",
       "      <th>867</th>\n",
       "      <td>cover</td>\n",
       "      <td>-1</td>\n",
       "    </tr>\n",
       "    <tr>\n",
       "      <th>1458</th>\n",
       "      <td>foyer</td>\n",
       "      <td>-1</td>\n",
       "    </tr>\n",
       "    <tr>\n",
       "      <th>1621</th>\n",
       "      <td>goner</td>\n",
       "      <td>-1</td>\n",
       "    </tr>\n",
       "    <tr>\n",
       "      <th>1809</th>\n",
       "      <td>hitch</td>\n",
       "      <td>-1</td>\n",
       "    </tr>\n",
       "    <tr>\n",
       "      <th>1852</th>\n",
       "      <td>hover</td>\n",
       "      <td>-1</td>\n",
       "    </tr>\n",
       "    <tr>\n",
       "      <th>1957</th>\n",
       "      <td>jammy</td>\n",
       "      <td>-1</td>\n",
       "    </tr>\n",
       "    <tr>\n",
       "      <th>2203</th>\n",
       "      <td>lolly</td>\n",
       "      <td>-1</td>\n",
       "    </tr>\n",
       "    <tr>\n",
       "      <th>2275</th>\n",
       "      <td>mammy</td>\n",
       "      <td>-1</td>\n",
       "    </tr>\n",
       "    <tr>\n",
       "      <th>2361</th>\n",
       "      <td>might</td>\n",
       "      <td>-1</td>\n",
       "    </tr>\n",
       "    <tr>\n",
       "      <th>4353</th>\n",
       "      <td>witch</td>\n",
       "      <td>-1</td>\n",
       "    </tr>\n",
       "  </tbody>\n",
       "</table>\n",
       "</div>"
      ],
      "text/plain": [
       "      words  stepsNeeded\n",
       "484   borer           -1\n",
       "504   boxer           -1\n",
       "844   coper           -1\n",
       "867   cover           -1\n",
       "1458  foyer           -1\n",
       "1621  goner           -1\n",
       "1809  hitch           -1\n",
       "1852  hover           -1\n",
       "1957  jammy           -1\n",
       "2203  lolly           -1\n",
       "2275  mammy           -1\n",
       "2361  might           -1\n",
       "4353  witch           -1"
      ]
     },
     "execution_count": 20,
     "metadata": {},
     "output_type": "execute_result"
    }
   ],
   "source": [
    "allwordspace[allwordspace['stepsNeeded']== allwordspace['stepsNeeded'].min()]"
   ]
  },
  {
   "cell_type": "code",
   "execution_count": 18,
   "id": "88fd6498-0476-4c38-adeb-cfe63703b42f",
   "metadata": {},
   "outputs": [
    {
     "data": {
      "text/plain": [
       "3.893058161350844"
      ]
     },
     "execution_count": 18,
     "metadata": {},
     "output_type": "execute_result"
    }
   ],
   "source": [
    "allwordspace[allwordspace['stepsNeeded'] > 0]['stepsNeeded'].mean()"
   ]
  },
  {
   "cell_type": "code",
   "execution_count": 19,
   "id": "d04750f0-47ce-4367-992e-f6bb62605aa2",
   "metadata": {},
   "outputs": [
    {
     "data": {
      "text/plain": [
       "0.9969604863221885"
      ]
     },
     "execution_count": 19,
     "metadata": {},
     "output_type": "execute_result"
    }
   ],
   "source": [
    "1 - (allwordspace['stepsNeeded']== allwordspace['stepsNeeded'].min()).sum() / len( allwordspace ) "
   ]
  },
  {
   "cell_type": "code",
   "execution_count": 18,
   "id": "df9c60b8-3adb-4db7-9dce-31a0bf01b5e6",
   "metadata": {},
   "outputs": [],
   "source": [
    "allwordspace.to_csv(\"summary.csv\",index=False)"
   ]
  },
  {
   "cell_type": "code",
   "execution_count": 19,
   "id": "d6d3628f-83a4-424f-aabd-41bfe6d0624c",
   "metadata": {},
   "outputs": [],
   "source": [
    "allwordspace = pd.read_csv(\"summary.csv\")"
   ]
  },
  {
   "cell_type": "code",
   "execution_count": 20,
   "id": "9ee99d25-4c8f-40e5-901a-29207c94ed9d",
   "metadata": {},
   "outputs": [
    {
     "data": {
      "text/html": [
       "<div>\n",
       "<style scoped>\n",
       "    .dataframe tbody tr th:only-of-type {\n",
       "        vertical-align: middle;\n",
       "    }\n",
       "\n",
       "    .dataframe tbody tr th {\n",
       "        vertical-align: top;\n",
       "    }\n",
       "\n",
       "    .dataframe thead th {\n",
       "        text-align: right;\n",
       "    }\n",
       "</style>\n",
       "<table border=\"1\" class=\"dataframe\">\n",
       "  <thead>\n",
       "    <tr style=\"text-align: right;\">\n",
       "      <th></th>\n",
       "      <th>words</th>\n",
       "      <th>stepsNeeded</th>\n",
       "    </tr>\n",
       "  </thead>\n",
       "  <tbody>\n",
       "    <tr>\n",
       "      <th>3</th>\n",
       "      <td>abase</td>\n",
       "      <td>-1</td>\n",
       "    </tr>\n",
       "    <tr>\n",
       "      <th>5</th>\n",
       "      <td>abate</td>\n",
       "      <td>-1</td>\n",
       "    </tr>\n",
       "    <tr>\n",
       "      <th>8</th>\n",
       "      <td>abeam</td>\n",
       "      <td>-1</td>\n",
       "    </tr>\n",
       "    <tr>\n",
       "      <th>23</th>\n",
       "      <td>acara</td>\n",
       "      <td>-1</td>\n",
       "    </tr>\n",
       "    <tr>\n",
       "      <th>52</th>\n",
       "      <td>afara</td>\n",
       "      <td>-1</td>\n",
       "    </tr>\n",
       "    <tr>\n",
       "      <th>165</th>\n",
       "      <td>apace</td>\n",
       "      <td>-1</td>\n",
       "    </tr>\n",
       "    <tr>\n",
       "      <th>166</th>\n",
       "      <td>apart</td>\n",
       "      <td>-1</td>\n",
       "    </tr>\n",
       "    <tr>\n",
       "      <th>281</th>\n",
       "      <td>baked</td>\n",
       "      <td>-1</td>\n",
       "    </tr>\n",
       "    <tr>\n",
       "      <th>468</th>\n",
       "      <td>borer</td>\n",
       "      <td>-1</td>\n",
       "    </tr>\n",
       "    <tr>\n",
       "      <th>488</th>\n",
       "      <td>boxer</td>\n",
       "      <td>-1</td>\n",
       "    </tr>\n",
       "    <tr>\n",
       "      <th>502</th>\n",
       "      <td>brave</td>\n",
       "      <td>-1</td>\n",
       "    </tr>\n",
       "    <tr>\n",
       "      <th>817</th>\n",
       "      <td>coper</td>\n",
       "      <td>-1</td>\n",
       "    </tr>\n",
       "    <tr>\n",
       "      <th>840</th>\n",
       "      <td>cover</td>\n",
       "      <td>-1</td>\n",
       "    </tr>\n",
       "    <tr>\n",
       "      <th>1282</th>\n",
       "      <td>fated</td>\n",
       "      <td>-1</td>\n",
       "    </tr>\n",
       "    <tr>\n",
       "      <th>1416</th>\n",
       "      <td>foyer</td>\n",
       "      <td>-1</td>\n",
       "    </tr>\n",
       "    <tr>\n",
       "      <th>1576</th>\n",
       "      <td>goner</td>\n",
       "      <td>-1</td>\n",
       "    </tr>\n",
       "    <tr>\n",
       "      <th>1756</th>\n",
       "      <td>hitch</td>\n",
       "      <td>-1</td>\n",
       "    </tr>\n",
       "    <tr>\n",
       "      <th>1796</th>\n",
       "      <td>hover</td>\n",
       "      <td>-1</td>\n",
       "    </tr>\n",
       "    <tr>\n",
       "      <th>1898</th>\n",
       "      <td>jammy</td>\n",
       "      <td>-1</td>\n",
       "    </tr>\n",
       "    <tr>\n",
       "      <th>1905</th>\n",
       "      <td>jelly</td>\n",
       "      <td>-1</td>\n",
       "    </tr>\n",
       "    <tr>\n",
       "      <th>2129</th>\n",
       "      <td>lolly</td>\n",
       "      <td>-1</td>\n",
       "    </tr>\n",
       "    <tr>\n",
       "      <th>2200</th>\n",
       "      <td>mammy</td>\n",
       "      <td>-1</td>\n",
       "    </tr>\n",
       "    <tr>\n",
       "      <th>2241</th>\n",
       "      <td>mazed</td>\n",
       "      <td>-1</td>\n",
       "    </tr>\n",
       "    <tr>\n",
       "      <th>2279</th>\n",
       "      <td>might</td>\n",
       "      <td>-1</td>\n",
       "    </tr>\n",
       "    <tr>\n",
       "      <th>2578</th>\n",
       "      <td>paddy</td>\n",
       "      <td>-1</td>\n",
       "    </tr>\n",
       "    <tr>\n",
       "      <th>2632</th>\n",
       "      <td>payed</td>\n",
       "      <td>-1</td>\n",
       "    </tr>\n",
       "    <tr>\n",
       "      <th>2758</th>\n",
       "      <td>poker</td>\n",
       "      <td>-1</td>\n",
       "    </tr>\n",
       "    <tr>\n",
       "      <th>2761</th>\n",
       "      <td>poler</td>\n",
       "      <td>-1</td>\n",
       "    </tr>\n",
       "    <tr>\n",
       "      <th>2793</th>\n",
       "      <td>power</td>\n",
       "      <td>-1</td>\n",
       "    </tr>\n",
       "    <tr>\n",
       "      <th>2794</th>\n",
       "      <td>praam</td>\n",
       "      <td>-1</td>\n",
       "    </tr>\n",
       "    <tr>\n",
       "      <th>3680</th>\n",
       "      <td>swore</td>\n",
       "      <td>-1</td>\n",
       "    </tr>\n",
       "    <tr>\n",
       "      <th>4102</th>\n",
       "      <td>vowed</td>\n",
       "      <td>-1</td>\n",
       "    </tr>\n",
       "    <tr>\n",
       "      <th>4196</th>\n",
       "      <td>witch</td>\n",
       "      <td>-1</td>\n",
       "    </tr>\n",
       "    <tr>\n",
       "      <th>4245</th>\n",
       "      <td>yappy</td>\n",
       "      <td>-1</td>\n",
       "    </tr>\n",
       "    <tr>\n",
       "      <th>4268</th>\n",
       "      <td>zippy</td>\n",
       "      <td>-1</td>\n",
       "    </tr>\n",
       "  </tbody>\n",
       "</table>\n",
       "</div>"
      ],
      "text/plain": [
       "      words  stepsNeeded\n",
       "3     abase           -1\n",
       "5     abate           -1\n",
       "8     abeam           -1\n",
       "23    acara           -1\n",
       "52    afara           -1\n",
       "165   apace           -1\n",
       "166   apart           -1\n",
       "281   baked           -1\n",
       "468   borer           -1\n",
       "488   boxer           -1\n",
       "502   brave           -1\n",
       "817   coper           -1\n",
       "840   cover           -1\n",
       "1282  fated           -1\n",
       "1416  foyer           -1\n",
       "1576  goner           -1\n",
       "1756  hitch           -1\n",
       "1796  hover           -1\n",
       "1898  jammy           -1\n",
       "1905  jelly           -1\n",
       "2129  lolly           -1\n",
       "2200  mammy           -1\n",
       "2241  mazed           -1\n",
       "2279  might           -1\n",
       "2578  paddy           -1\n",
       "2632  payed           -1\n",
       "2758  poker           -1\n",
       "2761  poler           -1\n",
       "2793  power           -1\n",
       "2794  praam           -1\n",
       "3680  swore           -1\n",
       "4102  vowed           -1\n",
       "4196  witch           -1\n",
       "4245  yappy           -1\n",
       "4268  zippy           -1"
      ]
     },
     "execution_count": 20,
     "metadata": {},
     "output_type": "execute_result"
    }
   ],
   "source": [
    "allwordspace[allwordspace['stepsNeeded'] == -1]"
   ]
  },
  {
   "cell_type": "code",
   "execution_count": 21,
   "id": "34bfee41-e506-4a34-8ecb-6e481a5e2fd8",
   "metadata": {},
   "outputs": [],
   "source": [
    "def testSolvingRounds( answer, initial_guess='raise' ): \n",
    "    wordleSession= Wordle()\n",
    "    \n",
    "    wordleSession.answer = answer\n",
    "    \n",
    "    guess = initial_guess\n",
    "    score = \"\"\n",
    "    \n",
    "    for i in range(7):\n",
    "\n",
    "        # print(guess)\n",
    "        wordleSession.getGuess( guess )\n",
    "        score = wordleSession.getScore( guess ) \n",
    "            \n",
    "        if score == \"22222\":\n",
    "            return i+1\n",
    "    \n",
    "        choice = wordleSession.updateChoices(guess, score ) \n",
    "        if len(choice) == 0:\n",
    "            return -99999\n",
    "    \n",
    "        guess = wordleSession.genHint()\n",
    "\n",
    "        \n",
    "    print( wordleSession.choiceSpace) \n",
    "    return -1"
   ]
  },
  {
   "cell_type": "code",
   "execution_count": 22,
   "id": "2b506cb5-4edf-44f6-adb6-70936eae5a46",
   "metadata": {},
   "outputs": [
    {
     "data": {
      "text/plain": [
       "3"
      ]
     },
     "execution_count": 22,
     "metadata": {},
     "output_type": "execute_result"
    }
   ],
   "source": [
    "testSolvingRounds('pitch','polyp')"
   ]
  },
  {
   "cell_type": "code",
   "execution_count": null,
   "id": "c34149bc-d7ec-407a-8dac-1cbf44ceb625",
   "metadata": {},
   "outputs": [],
   "source": []
  },
  {
   "cell_type": "code",
   "execution_count": null,
   "id": "7139789e-b77c-4f68-9aa5-6d2a037efeb2",
   "metadata": {},
   "outputs": [],
   "source": []
  },
  {
   "cell_type": "code",
   "execution_count": null,
   "id": "016ce756-e295-49e0-9e77-c9a1987c85b0",
   "metadata": {},
   "outputs": [],
   "source": []
  },
  {
   "cell_type": "code",
   "execution_count": null,
   "id": "fd8d80d2-2909-45b2-b327-10625d9404f4",
   "metadata": {},
   "outputs": [],
   "source": []
  }
 ],
 "metadata": {
  "kernelspec": {
   "display_name": "Python 3 (ipykernel)",
   "language": "python",
   "name": "python3"
  },
  "language_info": {
   "codemirror_mode": {
    "name": "ipython",
    "version": 3
   },
   "file_extension": ".py",
   "mimetype": "text/x-python",
   "name": "python",
   "nbconvert_exporter": "python",
   "pygments_lexer": "ipython3",
   "version": "3.10.12"
  }
 },
 "nbformat": 4,
 "nbformat_minor": 5
}
